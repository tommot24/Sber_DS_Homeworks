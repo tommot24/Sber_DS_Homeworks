{
 "cells": [
  {
   "cell_type": "markdown",
   "metadata": {
    "pycharm": {
     "name": "#%% md\n"
    }
   },
   "source": [
    "# Задание\n",
    "* Собрать информацию о всех строящихся объектах на сайте \"наш.дом.рф\"\n",
    "* Cохранить ее в pandas dataframe\n",
    "* Cохранить pandas dataframe в excel\n",
    "* Cохранить pandas dataframe в pickle\n",
    "* Cохранить pandas dataframe в БД\n",
    "\n",
    "# Задание *\n",
    "* Написать скрипт, который скачивает фотографии всех строящихся объектов с сайта \"наш.дом.рф\"\n"
   ]
  },
  {
   "cell_type": "code",
   "execution_count": 1,
   "metadata": {
    "ExecuteTime": {
     "end_time": "2022-10-15T11:10:38.863216Z",
     "start_time": "2022-10-15T11:10:37.326393Z"
    },
    "pycharm": {
     "name": "#%%\n"
    }
   },
   "outputs": [],
   "source": [
    "import requests\n",
    "from tqdm import tqdm\n",
    "import pandas as pd\n",
    "import pickle\n",
    "import sqlite3 as db\n",
    "import matplotlib.pyplot as plt\n",
    "import seaborn as sns\n",
    "import numpy as np\n",
    "from scipy import stats\n",
    "\n",
    "import ipywidgets as widgets\n",
    "from ipywidgets import interact, interact_manual\n",
    "\n",
    "pd.set_option('display.max_colwidth', 30)\n",
    "pd.set_option('display.max_columns', None)"
   ]
  },
  {
   "cell_type": "markdown",
   "metadata": {
    "pycharm": {
     "name": "#%% md\n"
    }
   },
   "source": [
    "## Список объектов"
   ]
  },
  {
   "cell_type": "code",
   "execution_count": 2,
   "metadata": {
    "ExecuteTime": {
     "end_time": "2022-10-02T06:48:30.823588Z",
     "start_time": "2022-10-02T06:46:28.367498Z"
    },
    "pycharm": {
     "name": "#%%\n"
    }
   },
   "outputs": [
    {
     "name": "stderr",
     "output_type": "stream",
     "text": [
      "100%|████████████████████████████████████████████████████████████████████████████████| 106/106 [02:01<00:00,  1.14s/it]\n"
     ]
    }
   ],
   "source": [
    "# Скачиваем первый батч из 100 обьектов недвижимости и получаем total_obj - общее количество обьектов\n",
    "objids = []\n",
    "offset_ = 0\n",
    "limit_ = 100\n",
    "url = f'https://xn--80az8a.xn--d1aqf.xn--p1ai/%D1%81%D0%B5%D1%80%D0%B2%D0%B8%D1%81%D1%8B/api/kn/object?offset={offset_}&limit={limit_}&sortField=devId.devShortCleanNm&sortType=asc&objStatus=0'\n",
    "res = requests.get(url)\n",
    "objects_data = res.json()\n",
    "total_obj = objects_data.get('data').get('total') #общее количество обьектов\n",
    "objids = [x.get('objId') for x in objects_data.get('data').get('list')] #начинаем формировать список id обьектов\n",
    "\n",
    "# собираем все id обьектов\n",
    "for i in tqdm(range(total_obj//100)):\n",
    "    offset_ += limit_\n",
    "    url = f'https://xn--80az8a.xn--d1aqf.xn--p1ai/%D1%81%D0%B5%D1%80%D0%B2%D0%B8%D1%81%D1%8B/api/kn/object?offset={offset_}&limit={limit_}&sortField=devId.devShortCleanNm&sortType=asc&objStatus=0'\n",
    "    res = requests.get(url)\n",
    "    objects_data = res.json()\n",
    "    objids.extend([x.get('objId') for x in objects_data.get('data').get('list')])"
   ]
  },
  {
   "cell_type": "code",
   "execution_count": 9,
   "metadata": {
    "ExecuteTime": {
     "end_time": "2022-10-02T07:46:38.735214Z",
     "start_time": "2022-10-02T07:05:41.222738Z"
    }
   },
   "outputs": [
    {
     "name": "stderr",
     "output_type": "stream",
     "text": [
      "100%|████████████████████████████████████████████████████████████████████████████| 10672/10672 [40:57<00:00,  4.34it/s]\n"
     ]
    }
   ],
   "source": [
    "# скачиваем описание обьектов и добавляем их в DataFrame\n",
    "\n",
    "df = pd.DataFrame()\n",
    "test_id = list(pd.Series(objids).sample(100)) #100 случайных обьектов для тестов\n",
    "for obj in tqdm(objids):\n",
    "    url_obj = f'https://xn--80az8a.xn--d1aqf.xn--p1ai/%D1%81%D0%B5%D1%80%D0%B2%D0%B8%D1%81%D1%8B/api/object/{obj}'\n",
    "    res = requests.get(url_obj)\n",
    "    df = pd.concat([df, pd.json_normalize(res.json().get('data'),\n",
    "                                          max_level=3)], \n",
    "                    axis=0)"
   ]
  },
  {
   "cell_type": "code",
   "execution_count": 65,
   "metadata": {
    "ExecuteTime": {
     "end_time": "2022-10-02T09:18:53.633131Z",
     "start_time": "2022-10-02T09:18:53.131417Z"
    }
   },
   "outputs": [],
   "source": [
    "url_obj = f'https://xn--80az8a.xn--d1aqf.xn--p1ai/%D1%81%D0%B5%D1%80%D0%B2%D0%B8%D1%81%D1%8B/api/object/13383'\n",
    "res = requests.get(url_obj)\n",
    "data = res.json().get('data')"
   ]
  },
  {
   "cell_type": "code",
   "execution_count": 67,
   "metadata": {
    "ExecuteTime": {
     "end_time": "2022-10-02T09:19:05.658628Z",
     "start_time": "2022-10-02T09:19:05.621018Z"
    }
   },
   "outputs": [
    {
     "data": {
      "text/plain": [
       "{'id': 13383,\n",
       " 'pdId': 28105,\n",
       " 'developer': {'devId': 306,\n",
       "  'devShortCleanNm': '2МЕН ГРУПП',\n",
       "  'devShortNm': '2МЕН ГРУПП',\n",
       "  'devFullCleanNm': '2МЕН ГРУПП',\n",
       "  'problObjCnt': 0,\n",
       "  'buildObjCnt': 5,\n",
       "  'comissObjCnt': 0,\n",
       "  'regRegionDesc': 'Тюменская область',\n",
       "  'devPhoneNum': '+7(345)279-18-88',\n",
       "  'devSite': '2mengroup.ru',\n",
       "  'devEmail': 'info@2mengroup.ru',\n",
       "  'devInn': '7701651356',\n",
       "  'devOgrn': '1067746424899',\n",
       "  'devKpp': '720301001',\n",
       "  'devLegalAddr': 'Тюменская область, город Тюмень, улица Комсомольская дом 75/5',\n",
       "  'devFactAddr': 'Тюменская область, город Тюмень, улица Комсомольская 75/5',\n",
       "  'lastRpdId': 632865,\n",
       "  'fundGuarantyFlg': 1,\n",
       "  'devOrgRegRegionCd': 72,\n",
       "  'devEmplMainFullNm': 'Киселев Сергей Михайлович',\n",
       "  'developerGroupName': '2МЕН ГРУПП ДЕВЕЛОПМЕНТ',\n",
       "  'orgForm': {'id': 1, 'fullForm': 'Акционерное общество', 'shortForm': 'АО'},\n",
       "  'companyGroupId': 5776,\n",
       "  'objGuarantyEscrowFlg': 0,\n",
       "  'govFundFlg': 0},\n",
       " 'region': 72,\n",
       " 'address': 'г Тюмень',\n",
       " 'floorMin': 4,\n",
       " 'floorMax': 20,\n",
       " 'objElemLivingCnt': 68,\n",
       " 'objReady100PercDt': '2022-12-31',\n",
       " 'wallMaterialShortDesc': 'Другое',\n",
       " 'objLkFinishTypeDesc': 'По желанию заказчика',\n",
       " 'objLkFreePlanDesc': 'Есть',\n",
       " 'objElemParkingCnt': 31,\n",
       " 'objSquareLiving': 6293.78,\n",
       " 'rpdNum': '72-000095',\n",
       " 'rpdPdfLink': 'https://xn--80az8a.xn--d1aqf.xn--p1ai/api/ext/file/eac27d84-4621-443d-9608-623376b6bafe',\n",
       " 'rpdIssueDttm': '07-09-2022 15:16',\n",
       " 'objLkLatitude': '57.1519',\n",
       " 'objLkLongitude': '65.5536',\n",
       " 'objCompensFundFlg': 1,\n",
       " 'objProblemFlg': 0,\n",
       " 'objLkClassDesc': 'Элитный',\n",
       " 'loadDttm': '02-10-2022 01:32',\n",
       " 'photoRenderDTO': [{'objId': 13383,\n",
       "   'pdId': 28105,\n",
       "   'rpdId': 626936,\n",
       "   'devId': 306,\n",
       "   'ordNum': 1,\n",
       "   'objRenderPhotoSize': 1433738,\n",
       "   'objRenderPhotoUrl': 'https://xn--80az8a.xn--d1aqf.xn--p1ai/api/ext/file/7c1ce108-aa51-45c2-acfa-3091f6bf7e54',\n",
       "   'objRenderPhotoDttm': '12-05-2021 16:56',\n",
       "   'objRenderPhotoHiddenFlg': 0,\n",
       "   'objRenderPhotoNm': 'IMG_20210512_093657.jpg',\n",
       "   'objReadyDesc': 'Строится',\n",
       "   'objBuildTypeShortDesc': 'Жилое',\n",
       "   'knFlg': 1,\n",
       "   'loadDttm': '02-10-2022 01:16'},\n",
       "  {'objId': 13383,\n",
       "   'pdId': 28105,\n",
       "   'rpdId': 626936,\n",
       "   'devId': 306,\n",
       "   'ordNum': 2,\n",
       "   'objRenderPhotoSize': 1304772,\n",
       "   'objRenderPhotoUrl': 'https://xn--80az8a.xn--d1aqf.xn--p1ai/api/ext/file/cf350104-3afa-40e8-86e1-212da5c99a9a',\n",
       "   'objRenderPhotoDttm': '12-05-2021 16:56',\n",
       "   'objRenderPhotoHiddenFlg': 0,\n",
       "   'objRenderPhotoNm': 'IMG_20210512_0937271.jpg',\n",
       "   'objReadyDesc': 'Строится',\n",
       "   'objBuildTypeShortDesc': 'Жилое',\n",
       "   'knFlg': 1,\n",
       "   'loadDttm': '02-10-2022 01:16'},\n",
       "  {'objId': 13383,\n",
       "   'pdId': 28105,\n",
       "   'rpdId': 626936,\n",
       "   'devId': 306,\n",
       "   'ordNum': 3,\n",
       "   'objRenderPhotoSize': 1351679,\n",
       "   'objRenderPhotoUrl': 'https://xn--80az8a.xn--d1aqf.xn--p1ai/api/ext/file/80422003-fc35-43f2-9174-de241b92bf1d',\n",
       "   'objRenderPhotoDttm': '12-05-2021 16:56',\n",
       "   'objRenderPhotoHiddenFlg': 0,\n",
       "   'objRenderPhotoNm': 'IMG_20210512_0938052.jpg',\n",
       "   'objReadyDesc': 'Строится',\n",
       "   'objBuildTypeShortDesc': 'Жилое',\n",
       "   'knFlg': 1,\n",
       "   'loadDttm': '02-10-2022 01:16'},\n",
       "  {'objId': 13383,\n",
       "   'pdId': 28105,\n",
       "   'rpdId': 626936,\n",
       "   'devId': 306,\n",
       "   'ordNum': 4,\n",
       "   'objRenderPhotoSize': 1472991,\n",
       "   'objRenderPhotoUrl': 'https://xn--80az8a.xn--d1aqf.xn--p1ai/api/ext/file/f70dc8e2-776f-4405-8f6f-d410c0061adf',\n",
       "   'objRenderPhotoDttm': '12-05-2021 16:56',\n",
       "   'objRenderPhotoHiddenFlg': 0,\n",
       "   'objRenderPhotoNm': 'IMG_20210512_0938223.jpg',\n",
       "   'objReadyDesc': 'Строится',\n",
       "   'objBuildTypeShortDesc': 'Жилое',\n",
       "   'knFlg': 1,\n",
       "   'loadDttm': '02-10-2022 01:16'},\n",
       "  {'objId': 13383,\n",
       "   'pdId': 28105,\n",
       "   'rpdId': 626936,\n",
       "   'devId': 306,\n",
       "   'ordNum': 5,\n",
       "   'objRenderPhotoSize': 1063993,\n",
       "   'objRenderPhotoUrl': 'https://xn--80az8a.xn--d1aqf.xn--p1ai/api/ext/file/ffd2a110-55a5-45c0-9bc1-61e146547df8',\n",
       "   'objRenderPhotoDttm': '12-05-2021 16:56',\n",
       "   'objRenderPhotoHiddenFlg': 0,\n",
       "   'objRenderPhotoNm': 'IMG_20210512_0940044.jpg',\n",
       "   'objReadyDesc': 'Строится',\n",
       "   'objBuildTypeShortDesc': 'Жилое',\n",
       "   'knFlg': 1,\n",
       "   'loadDttm': '02-10-2022 01:16'},\n",
       "  {'objId': 13383,\n",
       "   'pdId': 28105,\n",
       "   'rpdId': 626936,\n",
       "   'devId': 306,\n",
       "   'ordNum': 6,\n",
       "   'objRenderPhotoSize': 1034002,\n",
       "   'objRenderPhotoUrl': 'https://xn--80az8a.xn--d1aqf.xn--p1ai/api/ext/file/4c2881c9-a6da-4235-8faa-2f74c5970837',\n",
       "   'objRenderPhotoDttm': '12-05-2021 16:56',\n",
       "   'objRenderPhotoHiddenFlg': 0,\n",
       "   'objRenderPhotoNm': 'IMG_20210512_0940155.jpg',\n",
       "   'objReadyDesc': 'Строится',\n",
       "   'objBuildTypeShortDesc': 'Жилое',\n",
       "   'knFlg': 1,\n",
       "   'loadDttm': '02-10-2022 01:16'},\n",
       "  {'objId': 13383,\n",
       "   'pdId': 28105,\n",
       "   'rpdId': 626936,\n",
       "   'devId': 306,\n",
       "   'ordNum': 7,\n",
       "   'objRenderPhotoSize': 1169206,\n",
       "   'objRenderPhotoUrl': 'https://xn--80az8a.xn--d1aqf.xn--p1ai/api/ext/file/3c35f14c-f16c-46cc-a9a8-c3e828a514b0',\n",
       "   'objRenderPhotoDttm': '12-05-2021 16:56',\n",
       "   'objRenderPhotoHiddenFlg': 0,\n",
       "   'objRenderPhotoNm': 'IMG_20210512_0951216.jpg',\n",
       "   'objReadyDesc': 'Строится',\n",
       "   'objBuildTypeShortDesc': 'Жилое',\n",
       "   'knFlg': 1,\n",
       "   'loadDttm': '02-10-2022 01:16'}],\n",
       " 'objGuarantyEscrowFlg': 0,\n",
       " 'objectType': 'normal',\n",
       " 'miniUrl': 'https://xn--80az8a.xn--d1aqf.xn--p1ai/api/ext/file/0dca6482-02ba-4d56-a861-7a17db04c957',\n",
       " 'residentialBuildings': 1,\n",
       " 'newBuildingId': 39024,\n",
       " 'objFloorCnt': 20,\n",
       " 'objFlatCnt': 68,\n",
       " 'objFlatSq': '6293.78',\n",
       " 'objNonlivElemCnt': 10,\n",
       " 'quartography': {'objLivElem1KCnt': 13,\n",
       "  'objLivElem2KCnt': 21,\n",
       "  'objLivElem3KCnt': 34,\n",
       "  'objLivElem4KCnt': 0,\n",
       "  'objLivElemCnt': 68,\n",
       "  'objLivElemEntrCnt': 1,\n",
       "  'objLivElemEntrFloorAvg': 6},\n",
       " 'objStatus': 0,\n",
       " 'isAvailableWantLiveHere': True,\n",
       " 'objTransferPlanDt': '28-02-2023 12:00',\n",
       " 'objLivCeilingHeight': '2,8',\n",
       " 'objInfrstrBicycleLaneFlg': 0,\n",
       " 'objInfrstrPlaygrndCnt': 1,\n",
       " 'objInfrstrSportGroundCnt': 1,\n",
       " 'objInfrstrTrashAreaCnt': 1,\n",
       " 'objInfrstrObjPrkngCnt': 0,\n",
       " 'objInfrstrNotObjPrkngCnt': 11,\n",
       " 'objInfrstrRampFlg': 1,\n",
       " 'objInfrstrCurbLoweringFlg': 1,\n",
       " 'objElevatorWheelchairCnt': 0,\n",
       " 'objElevatorPassengerCnt': 5,\n",
       " 'objElevatorCargoCnt': 1,\n",
       " 'objElevatorCargoPassengerCnt': 7,\n",
       " 'soldOutPerc': 0.407163898325013,\n",
       " 'objPriceAvg': 53109,\n",
       " 'generalContractorNm': 'ООО Транспромжилстрой-2005 (ИНН: 7204097730)',\n",
       " 'nonlivFirstFloor': 1,\n",
       " 'objectTransportInfo': [],\n",
       " 'conclusion': False,\n",
       " 'objLkSaleDepEmail': 'info@2mengroup.ru',\n",
       " 'objGreenHouseFlg': 0,\n",
       " 'objEnergyEffShortDesc': 'B',\n",
       " 'infrastructureIndexValue': 10}"
      ]
     },
     "execution_count": 67,
     "metadata": {},
     "output_type": "execute_result"
    }
   ],
   "source": [
    "data"
   ]
  },
  {
   "cell_type": "code",
   "execution_count": 68,
   "metadata": {
    "ExecuteTime": {
     "end_time": "2022-10-02T09:21:24.990746Z",
     "start_time": "2022-10-02T09:21:24.980186Z"
    }
   },
   "outputs": [],
   "source": [
    "df.info(max_cols=200)"
   ]
  },
  {
   "cell_type": "code",
   "execution_count": 11,
   "metadata": {
    "ExecuteTime": {
     "end_time": "2022-10-02T07:47:34.206657Z",
     "start_time": "2022-10-02T07:47:14.028239Z"
    }
   },
   "outputs": [],
   "source": [
    "df.to_excel('HW1_objects_data.xlsx', index=False)"
   ]
  },
  {
   "cell_type": "code",
   "execution_count": 13,
   "metadata": {
    "ExecuteTime": {
     "end_time": "2022-10-02T07:47:46.003109Z",
     "start_time": "2022-10-02T07:47:44.507544Z"
    }
   },
   "outputs": [],
   "source": [
    "df.to_pickle('HW1_objects_data.pkl', compression='zip')"
   ]
  },
  {
   "cell_type": "code",
   "execution_count": 56,
   "metadata": {
    "ExecuteTime": {
     "end_time": "2022-10-02T08:18:19.189241Z",
     "start_time": "2022-10-02T08:18:18.121869Z"
    }
   },
   "outputs": [],
   "source": [
    "# сохраним датафпейм в таблицу sqlite3\n",
    "conn = db.connect(\":memory:\") \n",
    "curr = conn.cursor()\n",
    "\n",
    "#для простоты уберем столбцы со списками\n",
    "df_for_sql = df.drop(['objectTransportInfo', \"photoRenderDTO\", \"metro.colors\"], axis = 1)\n",
    "\n",
    "#добавим в записываемый df строку с именами колонок\n",
    "df_for_sql = pd.concat([pd.DataFrame([df_for_sql.columns.values], columns=df_for_sql.columns), df_for_sql], ignore_index=True)\n",
    "\n",
    "# на основе датафрейма df создем таблицу в sqlite3 с именем table1\n",
    "df_for_sql.to_sql(name='table1', con=conn, if_exists='replace', index=False, index_label=True)"
   ]
  },
  {
   "cell_type": "code",
   "execution_count": 58,
   "metadata": {
    "ExecuteTime": {
     "end_time": "2022-10-02T08:21:05.430907Z",
     "start_time": "2022-10-02T08:21:04.657699Z"
    }
   },
   "outputs": [
    {
     "data": {
      "text/html": [
       "<div>\n",
       "<style scoped>\n",
       "    .dataframe tbody tr th:only-of-type {\n",
       "        vertical-align: middle;\n",
       "    }\n",
       "\n",
       "    .dataframe tbody tr th {\n",
       "        vertical-align: top;\n",
       "    }\n",
       "\n",
       "    .dataframe thead th {\n",
       "        text-align: right;\n",
       "    }\n",
       "</style>\n",
       "<table border=\"1\" class=\"dataframe\">\n",
       "  <thead>\n",
       "    <tr style=\"text-align: right;\">\n",
       "      <th></th>\n",
       "      <th>0</th>\n",
       "      <th>1</th>\n",
       "      <th>2</th>\n",
       "      <th>3</th>\n",
       "      <th>4</th>\n",
       "      <th>5</th>\n",
       "      <th>6</th>\n",
       "      <th>7</th>\n",
       "      <th>8</th>\n",
       "      <th>9</th>\n",
       "      <th>10</th>\n",
       "      <th>11</th>\n",
       "      <th>12</th>\n",
       "      <th>13</th>\n",
       "      <th>14</th>\n",
       "      <th>15</th>\n",
       "      <th>16</th>\n",
       "      <th>17</th>\n",
       "      <th>18</th>\n",
       "      <th>19</th>\n",
       "      <th>20</th>\n",
       "      <th>21</th>\n",
       "      <th>22</th>\n",
       "      <th>23</th>\n",
       "      <th>24</th>\n",
       "      <th>25</th>\n",
       "      <th>26</th>\n",
       "      <th>27</th>\n",
       "      <th>28</th>\n",
       "      <th>29</th>\n",
       "      <th>30</th>\n",
       "      <th>31</th>\n",
       "      <th>32</th>\n",
       "      <th>33</th>\n",
       "      <th>34</th>\n",
       "      <th>35</th>\n",
       "      <th>36</th>\n",
       "      <th>37</th>\n",
       "      <th>38</th>\n",
       "      <th>39</th>\n",
       "      <th>40</th>\n",
       "      <th>41</th>\n",
       "      <th>42</th>\n",
       "      <th>43</th>\n",
       "      <th>44</th>\n",
       "      <th>45</th>\n",
       "      <th>46</th>\n",
       "      <th>47</th>\n",
       "      <th>48</th>\n",
       "      <th>49</th>\n",
       "      <th>50</th>\n",
       "      <th>51</th>\n",
       "      <th>52</th>\n",
       "      <th>53</th>\n",
       "      <th>54</th>\n",
       "      <th>55</th>\n",
       "      <th>56</th>\n",
       "      <th>57</th>\n",
       "      <th>58</th>\n",
       "      <th>59</th>\n",
       "      <th>60</th>\n",
       "      <th>61</th>\n",
       "      <th>62</th>\n",
       "      <th>63</th>\n",
       "      <th>64</th>\n",
       "      <th>65</th>\n",
       "      <th>66</th>\n",
       "      <th>67</th>\n",
       "      <th>68</th>\n",
       "      <th>69</th>\n",
       "      <th>70</th>\n",
       "      <th>71</th>\n",
       "      <th>72</th>\n",
       "      <th>73</th>\n",
       "      <th>74</th>\n",
       "      <th>75</th>\n",
       "      <th>76</th>\n",
       "      <th>77</th>\n",
       "      <th>78</th>\n",
       "      <th>79</th>\n",
       "      <th>80</th>\n",
       "      <th>81</th>\n",
       "      <th>82</th>\n",
       "      <th>83</th>\n",
       "      <th>84</th>\n",
       "      <th>85</th>\n",
       "      <th>86</th>\n",
       "      <th>87</th>\n",
       "      <th>88</th>\n",
       "      <th>89</th>\n",
       "      <th>90</th>\n",
       "      <th>91</th>\n",
       "      <th>92</th>\n",
       "      <th>93</th>\n",
       "      <th>94</th>\n",
       "      <th>95</th>\n",
       "      <th>96</th>\n",
       "      <th>97</th>\n",
       "      <th>98</th>\n",
       "      <th>99</th>\n",
       "      <th>100</th>\n",
       "      <th>101</th>\n",
       "      <th>102</th>\n",
       "      <th>103</th>\n",
       "      <th>104</th>\n",
       "      <th>105</th>\n",
       "    </tr>\n",
       "  </thead>\n",
       "  <tbody>\n",
       "    <tr>\n",
       "      <th>0</th>\n",
       "      <td>id</td>\n",
       "      <td>pdId</td>\n",
       "      <td>region</td>\n",
       "      <td>address</td>\n",
       "      <td>objElemLivingCnt</td>\n",
       "      <td>objReady100PercDt</td>\n",
       "      <td>wallMaterialShortDesc</td>\n",
       "      <td>objLkFinishTypeDesc</td>\n",
       "      <td>objLkFreePlanDesc</td>\n",
       "      <td>objElemParkingCnt</td>\n",
       "      <td>objSquareLiving</td>\n",
       "      <td>rpdNum</td>\n",
       "      <td>rpdPdfLink</td>\n",
       "      <td>rpdIssueDttm</td>\n",
       "      <td>objLkLatitude</td>\n",
       "      <td>objLkLongitude</td>\n",
       "      <td>objCompensFundFlg</td>\n",
       "      <td>objProblemFlg</td>\n",
       "      <td>objLkClassDesc</td>\n",
       "      <td>loadDttm</td>\n",
       "      <td>objGuarantyEscrowFlg</td>\n",
       "      <td>objectType</td>\n",
       "      <td>residentialBuildings</td>\n",
       "      <td>newBuildingId</td>\n",
       "      <td>objFlatCnt</td>\n",
       "      <td>objFlatSq</td>\n",
       "      <td>objNonlivElemCnt</td>\n",
       "      <td>objStatus</td>\n",
       "      <td>isAvailableWantLiveHere</td>\n",
       "      <td>objInfrstrBicycleLaneFlg</td>\n",
       "      <td>objInfrstrRampFlg</td>\n",
       "      <td>objInfrstrCurbLoweringFlg</td>\n",
       "      <td>objElevatorCargoPassengerCnt</td>\n",
       "      <td>conclusion</td>\n",
       "      <td>objGreenHouseFlg</td>\n",
       "      <td>objEnergyEffShortDesc</td>\n",
       "      <td>infrastructureIndexValue</td>\n",
       "      <td>developer.devId</td>\n",
       "      <td>developer.devShortCleanNm</td>\n",
       "      <td>developer.devShortNm</td>\n",
       "      <td>developer.devFullCleanNm</td>\n",
       "      <td>developer.problObjCnt</td>\n",
       "      <td>developer.buildObjCnt</td>\n",
       "      <td>developer.comissObjCnt</td>\n",
       "      <td>developer.regRegionDesc</td>\n",
       "      <td>developer.devPhoneNum</td>\n",
       "      <td>developer.devSite</td>\n",
       "      <td>developer.devEmail</td>\n",
       "      <td>developer.devInn</td>\n",
       "      <td>developer.devOgrn</td>\n",
       "      <td>developer.devKpp</td>\n",
       "      <td>developer.devLegalAddr</td>\n",
       "      <td>developer.devFactAddr</td>\n",
       "      <td>developer.lastRpdId</td>\n",
       "      <td>developer.fundGuarantyFlg</td>\n",
       "      <td>developer.devOrgRegRegionCd</td>\n",
       "      <td>developer.devEmplMainFullNm</td>\n",
       "      <td>developer.orgForm.id</td>\n",
       "      <td>developer.orgForm.fullForm</td>\n",
       "      <td>developer.orgForm.shortForm</td>\n",
       "      <td>developer.objGuarantyEscro...</td>\n",
       "      <td>developer.govFundFlg</td>\n",
       "      <td>floorMin</td>\n",
       "      <td>floorMax</td>\n",
       "      <td>miniUrl</td>\n",
       "      <td>objFloorCnt</td>\n",
       "      <td>objTransferPlanDt</td>\n",
       "      <td>objLivCeilingHeight</td>\n",
       "      <td>objInfrstrPlaygrndCnt</td>\n",
       "      <td>objInfrstrSportGroundCnt</td>\n",
       "      <td>objInfrstrTrashAreaCnt</td>\n",
       "      <td>objInfrstrObjPrkngCnt</td>\n",
       "      <td>objInfrstrNotObjPrkngCnt</td>\n",
       "      <td>objElevatorWheelchairCnt</td>\n",
       "      <td>objElevatorPassengerCnt</td>\n",
       "      <td>objElevatorCargoCnt</td>\n",
       "      <td>soldOutPerc</td>\n",
       "      <td>objPriceAvg</td>\n",
       "      <td>generalContractorNm</td>\n",
       "      <td>nonlivFirstFloor</td>\n",
       "      <td>objLkSaleDepEmail</td>\n",
       "      <td>developer.developerGroupName</td>\n",
       "      <td>developer.companyGroupId</td>\n",
       "      <td>quartography.objLivElem1KCnt</td>\n",
       "      <td>quartography.objLivElem2KCnt</td>\n",
       "      <td>quartography.objLivElem3KCnt</td>\n",
       "      <td>quartography.objLivElem4KCnt</td>\n",
       "      <td>quartography.objLivElemCnt</td>\n",
       "      <td>quartography.objLivElemEnt...</td>\n",
       "      <td>quartography.objLivElemEnt...</td>\n",
       "      <td>transportDistIndex</td>\n",
       "      <td>transportDistIndexValue</td>\n",
       "      <td>nameObj</td>\n",
       "      <td>greenAreaIndexValue</td>\n",
       "      <td>airQualityIndexValue</td>\n",
       "      <td>complexShortNm</td>\n",
       "      <td>developer.bankruptStage.ba...</td>\n",
       "      <td>developer.bankruptStage.ba...</td>\n",
       "      <td>developer.bankruptStage.ba...</td>\n",
       "      <td>developer.orgBankruptMsgDttm</td>\n",
       "      <td>metro.id</td>\n",
       "      <td>metro.name</td>\n",
       "      <td>metro.line</td>\n",
       "      <td>metro.color</td>\n",
       "      <td>metro.time</td>\n",
       "      <td>metro.isWalk</td>\n",
       "    </tr>\n",
       "    <tr>\n",
       "      <th>1</th>\n",
       "      <td>29679</td>\n",
       "      <td>124647</td>\n",
       "      <td>61</td>\n",
       "      <td>г Таганрог</td>\n",
       "      <td>18</td>\n",
       "      <td>2020-03-31</td>\n",
       "      <td>Другое</td>\n",
       "      <td>Под ключ</td>\n",
       "      <td>Есть</td>\n",
       "      <td>0</td>\n",
       "      <td>1519.0</td>\n",
       "      <td>61-000818</td>\n",
       "      <td>https://xn--80az8a.xn--d1a...</td>\n",
       "      <td>20-03-2019 18:41</td>\n",
       "      <td>47.2238</td>\n",
       "      <td>38.8513</td>\n",
       "      <td>0</td>\n",
       "      <td>0</td>\n",
       "      <td>Комфорт</td>\n",
       "      <td>02-10-2022 01:32</td>\n",
       "      <td>0</td>\n",
       "      <td>normal</td>\n",
       "      <td>1</td>\n",
       "      <td>40800</td>\n",
       "      <td>18</td>\n",
       "      <td>1519.0</td>\n",
       "      <td>0</td>\n",
       "      <td>0</td>\n",
       "      <td>1</td>\n",
       "      <td>0</td>\n",
       "      <td>0</td>\n",
       "      <td>0</td>\n",
       "      <td>0</td>\n",
       "      <td>0</td>\n",
       "      <td>0</td>\n",
       "      <td>Не нормируется</td>\n",
       "      <td>7</td>\n",
       "      <td>7424</td>\n",
       "      <td>212-2</td>\n",
       "      <td>212-2</td>\n",
       "      <td>212-2</td>\n",
       "      <td>0</td>\n",
       "      <td>1</td>\n",
       "      <td>0</td>\n",
       "      <td>Ростовская область</td>\n",
       "      <td>+7(961)285-90-10</td>\n",
       "      <td>taganrogjsk.wixsite.com</td>\n",
       "      <td>kirpol76@gmail.com</td>\n",
       "      <td>6154572922</td>\n",
       "      <td>1116154005923</td>\n",
       "      <td>615401001</td>\n",
       "      <td>Ростовская область, город ...</td>\n",
       "      <td>обл Ростовская город Таган...</td>\n",
       "      <td>126093</td>\n",
       "      <td>0</td>\n",
       "      <td>61.0</td>\n",
       "      <td>Снимщикова Ольга Викторовна</td>\n",
       "      <td>20</td>\n",
       "      <td>Жилищный или жилищно-строи...</td>\n",
       "      <td>ЖСК</td>\n",
       "      <td>0</td>\n",
       "      <td>0</td>\n",
       "      <td>None</td>\n",
       "      <td>None</td>\n",
       "      <td>None</td>\n",
       "      <td>None</td>\n",
       "      <td>None</td>\n",
       "      <td>None</td>\n",
       "      <td>None</td>\n",
       "      <td>None</td>\n",
       "      <td>None</td>\n",
       "      <td>None</td>\n",
       "      <td>None</td>\n",
       "      <td>None</td>\n",
       "      <td>None</td>\n",
       "      <td>None</td>\n",
       "      <td>None</td>\n",
       "      <td>None</td>\n",
       "      <td>None</td>\n",
       "      <td>None</td>\n",
       "      <td>None</td>\n",
       "      <td>None</td>\n",
       "      <td>None</td>\n",
       "      <td>None</td>\n",
       "      <td>None</td>\n",
       "      <td>None</td>\n",
       "      <td>None</td>\n",
       "      <td>None</td>\n",
       "      <td>None</td>\n",
       "      <td>None</td>\n",
       "      <td>None</td>\n",
       "      <td>None</td>\n",
       "      <td>None</td>\n",
       "      <td>None</td>\n",
       "      <td>None</td>\n",
       "      <td>None</td>\n",
       "      <td>None</td>\n",
       "      <td>None</td>\n",
       "      <td>None</td>\n",
       "      <td>None</td>\n",
       "      <td>None</td>\n",
       "      <td>None</td>\n",
       "      <td>None</td>\n",
       "      <td>None</td>\n",
       "      <td>None</td>\n",
       "      <td>None</td>\n",
       "    </tr>\n",
       "    <tr>\n",
       "      <th>2</th>\n",
       "      <td>13383</td>\n",
       "      <td>28105</td>\n",
       "      <td>72</td>\n",
       "      <td>г Тюмень</td>\n",
       "      <td>68</td>\n",
       "      <td>2022-12-31</td>\n",
       "      <td>Другое</td>\n",
       "      <td>По желанию заказчика</td>\n",
       "      <td>Есть</td>\n",
       "      <td>31</td>\n",
       "      <td>6293.78</td>\n",
       "      <td>72-000095</td>\n",
       "      <td>https://xn--80az8a.xn--d1a...</td>\n",
       "      <td>07-09-2022 15:16</td>\n",
       "      <td>57.1519</td>\n",
       "      <td>65.5536</td>\n",
       "      <td>1</td>\n",
       "      <td>0</td>\n",
       "      <td>Элитный</td>\n",
       "      <td>02-10-2022 01:32</td>\n",
       "      <td>0</td>\n",
       "      <td>normal</td>\n",
       "      <td>1</td>\n",
       "      <td>39024</td>\n",
       "      <td>68</td>\n",
       "      <td>6293.78</td>\n",
       "      <td>10</td>\n",
       "      <td>0</td>\n",
       "      <td>1</td>\n",
       "      <td>0</td>\n",
       "      <td>1</td>\n",
       "      <td>1</td>\n",
       "      <td>7</td>\n",
       "      <td>0</td>\n",
       "      <td>0</td>\n",
       "      <td>B</td>\n",
       "      <td>10</td>\n",
       "      <td>306</td>\n",
       "      <td>2МЕН ГРУПП</td>\n",
       "      <td>2МЕН ГРУПП</td>\n",
       "      <td>2МЕН ГРУПП</td>\n",
       "      <td>0</td>\n",
       "      <td>5</td>\n",
       "      <td>0</td>\n",
       "      <td>Тюменская область</td>\n",
       "      <td>+7(345)279-18-88</td>\n",
       "      <td>2mengroup.ru</td>\n",
       "      <td>info@2mengroup.ru</td>\n",
       "      <td>7701651356</td>\n",
       "      <td>1067746424899</td>\n",
       "      <td>720301001</td>\n",
       "      <td>Тюменская область, город Т...</td>\n",
       "      <td>Тюменская область, город Т...</td>\n",
       "      <td>632865</td>\n",
       "      <td>1</td>\n",
       "      <td>72.0</td>\n",
       "      <td>Киселев Сергей Михайлович</td>\n",
       "      <td>1</td>\n",
       "      <td>Акционерное общество</td>\n",
       "      <td>АО</td>\n",
       "      <td>0</td>\n",
       "      <td>0</td>\n",
       "      <td>4.0</td>\n",
       "      <td>20.0</td>\n",
       "      <td>https://xn--80az8a.xn--d1a...</td>\n",
       "      <td>20.0</td>\n",
       "      <td>28-02-2023 12:00</td>\n",
       "      <td>2,8</td>\n",
       "      <td>1.0</td>\n",
       "      <td>1.0</td>\n",
       "      <td>1.0</td>\n",
       "      <td>0.0</td>\n",
       "      <td>11.0</td>\n",
       "      <td>0.0</td>\n",
       "      <td>5.0</td>\n",
       "      <td>1.0</td>\n",
       "      <td>0.407163898325013</td>\n",
       "      <td>53109.0</td>\n",
       "      <td>ООО Транспромжилстрой-2005...</td>\n",
       "      <td>1.0</td>\n",
       "      <td>info@2mengroup.ru</td>\n",
       "      <td>2МЕН ГРУПП ДЕВЕЛОПМЕНТ</td>\n",
       "      <td>5776.0</td>\n",
       "      <td>13.0</td>\n",
       "      <td>21.0</td>\n",
       "      <td>34.0</td>\n",
       "      <td>0.0</td>\n",
       "      <td>68.0</td>\n",
       "      <td>1.0</td>\n",
       "      <td>6.0</td>\n",
       "      <td>None</td>\n",
       "      <td>None</td>\n",
       "      <td>None</td>\n",
       "      <td>None</td>\n",
       "      <td>None</td>\n",
       "      <td>None</td>\n",
       "      <td>None</td>\n",
       "      <td>None</td>\n",
       "      <td>None</td>\n",
       "      <td>None</td>\n",
       "      <td>None</td>\n",
       "      <td>None</td>\n",
       "      <td>None</td>\n",
       "      <td>None</td>\n",
       "      <td>None</td>\n",
       "      <td>None</td>\n",
       "    </tr>\n",
       "  </tbody>\n",
       "</table>\n",
       "</div>"
      ],
      "text/plain": [
       "     0       1       2           3                 4                  5    \\\n",
       "0     id    pdId  region     address  objElemLivingCnt  objReady100PercDt   \n",
       "1  29679  124647      61  г Таганрог                18         2020-03-31   \n",
       "2  13383   28105      72    г Тюмень                68         2022-12-31   \n",
       "\n",
       "                     6                     7                  8    \\\n",
       "0  wallMaterialShortDesc   objLkFinishTypeDesc  objLkFreePlanDesc   \n",
       "1                 Другое              Под ключ               Есть   \n",
       "2                 Другое  По желанию заказчика               Есть   \n",
       "\n",
       "                 9                10         11   \\\n",
       "0  objElemParkingCnt  objSquareLiving     rpdNum   \n",
       "1                  0           1519.0  61-000818   \n",
       "2                 31          6293.78  72-000095   \n",
       "\n",
       "                             12                13             14   \\\n",
       "0                     rpdPdfLink      rpdIssueDttm  objLkLatitude   \n",
       "1  https://xn--80az8a.xn--d1a...  20-03-2019 18:41        47.2238   \n",
       "2  https://xn--80az8a.xn--d1a...  07-09-2022 15:16        57.1519   \n",
       "\n",
       "              15                 16             17              18   \\\n",
       "0  objLkLongitude  objCompensFundFlg  objProblemFlg  objLkClassDesc   \n",
       "1         38.8513                  0              0         Комфорт   \n",
       "2         65.5536                  1              0         Элитный   \n",
       "\n",
       "                19                    20          21                    22   \\\n",
       "0          loadDttm  objGuarantyEscrowFlg  objectType  residentialBuildings   \n",
       "1  02-10-2022 01:32                     0      normal                     1   \n",
       "2  02-10-2022 01:32                     0      normal                     1   \n",
       "\n",
       "             23          24         25                26         27   \\\n",
       "0  newBuildingId  objFlatCnt  objFlatSq  objNonlivElemCnt  objStatus   \n",
       "1          40800          18     1519.0                 0          0   \n",
       "2          39024          68    6293.78                10          0   \n",
       "\n",
       "                       28                        29                 30   \\\n",
       "0  isAvailableWantLiveHere  objInfrstrBicycleLaneFlg  objInfrstrRampFlg   \n",
       "1                        1                         0                  0   \n",
       "2                        1                         0                  1   \n",
       "\n",
       "                         31                            32          33   \\\n",
       "0  objInfrstrCurbLoweringFlg  objElevatorCargoPassengerCnt  conclusion   \n",
       "1                          0                             0           0   \n",
       "2                          1                             7           0   \n",
       "\n",
       "                34                     35                        36   \\\n",
       "0  objGreenHouseFlg  objEnergyEffShortDesc  infrastructureIndexValue   \n",
       "1                 0         Не нормируется                         7   \n",
       "2                 0                      B                        10   \n",
       "\n",
       "               37                         38                    39   \\\n",
       "0  developer.devId  developer.devShortCleanNm  developer.devShortNm   \n",
       "1             7424                      212-2                 212-2   \n",
       "2              306                 2МЕН ГРУПП            2МЕН ГРУПП   \n",
       "\n",
       "                        40                     41                     42   \\\n",
       "0  developer.devFullCleanNm  developer.problObjCnt  developer.buildObjCnt   \n",
       "1                     212-2                      0                      1   \n",
       "2                2МЕН ГРУПП                      0                      5   \n",
       "\n",
       "                      43                       44                     45   \\\n",
       "0  developer.comissObjCnt  developer.regRegionDesc  developer.devPhoneNum   \n",
       "1                       0       Ростовская область       +7(961)285-90-10   \n",
       "2                       0        Тюменская область       +7(345)279-18-88   \n",
       "\n",
       "                       46                  47                48   \\\n",
       "0        developer.devSite  developer.devEmail  developer.devInn   \n",
       "1  taganrogjsk.wixsite.com  kirpol76@gmail.com        6154572922   \n",
       "2             2mengroup.ru   info@2mengroup.ru        7701651356   \n",
       "\n",
       "                 49                50                             51   \\\n",
       "0  developer.devOgrn  developer.devKpp         developer.devLegalAddr   \n",
       "1      1116154005923         615401001  Ростовская область, город ...   \n",
       "2      1067746424899         720301001  Тюменская область, город Т...   \n",
       "\n",
       "                             52                   53   \\\n",
       "0          developer.devFactAddr  developer.lastRpdId   \n",
       "1  обл Ростовская город Таган...               126093   \n",
       "2  Тюменская область, город Т...               632865   \n",
       "\n",
       "                         54                           55   \\\n",
       "0  developer.fundGuarantyFlg  developer.devOrgRegRegionCd   \n",
       "1                          0                         61.0   \n",
       "2                          1                         72.0   \n",
       "\n",
       "                           56                    57   \\\n",
       "0  developer.devEmplMainFullNm  developer.orgForm.id   \n",
       "1  Снимщикова Ольга Викторовна                    20   \n",
       "2    Киселев Сергей Михайлович                     1   \n",
       "\n",
       "                             58                           59   \\\n",
       "0     developer.orgForm.fullForm  developer.orgForm.shortForm   \n",
       "1  Жилищный или жилищно-строи...                          ЖСК   \n",
       "2           Акционерное общество                           АО   \n",
       "\n",
       "                             60                    61        62        63   \\\n",
       "0  developer.objGuarantyEscro...  developer.govFundFlg  floorMin  floorMax   \n",
       "1                              0                     0      None      None   \n",
       "2                              0                     0       4.0      20.0   \n",
       "\n",
       "                             64           65                 66   \\\n",
       "0                        miniUrl  objFloorCnt  objTransferPlanDt   \n",
       "1                           None         None               None   \n",
       "2  https://xn--80az8a.xn--d1a...         20.0   28-02-2023 12:00   \n",
       "\n",
       "                   67                     68                        69   \\\n",
       "0  objLivCeilingHeight  objInfrstrPlaygrndCnt  objInfrstrSportGroundCnt   \n",
       "1                 None                   None                      None   \n",
       "2                  2,8                    1.0                       1.0   \n",
       "\n",
       "                      70                     71                        72   \\\n",
       "0  objInfrstrTrashAreaCnt  objInfrstrObjPrkngCnt  objInfrstrNotObjPrkngCnt   \n",
       "1                    None                   None                      None   \n",
       "2                     1.0                    0.0                      11.0   \n",
       "\n",
       "                        73                       74                   75   \\\n",
       "0  objElevatorWheelchairCnt  objElevatorPassengerCnt  objElevatorCargoCnt   \n",
       "1                      None                     None                 None   \n",
       "2                       0.0                      5.0                  1.0   \n",
       "\n",
       "                 76           77                             78   \\\n",
       "0        soldOutPerc  objPriceAvg            generalContractorNm   \n",
       "1               None         None                           None   \n",
       "2  0.407163898325013      53109.0  ООО Транспромжилстрой-2005...   \n",
       "\n",
       "                79                 80                            81   \\\n",
       "0  nonlivFirstFloor  objLkSaleDepEmail  developer.developerGroupName   \n",
       "1              None               None                          None   \n",
       "2               1.0  info@2mengroup.ru        2МЕН ГРУПП ДЕВЕЛОПМЕНТ   \n",
       "\n",
       "                        82                            83   \\\n",
       "0  developer.companyGroupId  quartography.objLivElem1KCnt   \n",
       "1                      None                          None   \n",
       "2                    5776.0                          13.0   \n",
       "\n",
       "                            84                            85   \\\n",
       "0  quartography.objLivElem2KCnt  quartography.objLivElem3KCnt   \n",
       "1                          None                          None   \n",
       "2                          21.0                          34.0   \n",
       "\n",
       "                            86                          87   \\\n",
       "0  quartography.objLivElem4KCnt  quartography.objLivElemCnt   \n",
       "1                          None                        None   \n",
       "2                           0.0                        68.0   \n",
       "\n",
       "                             88                             89   \\\n",
       "0  quartography.objLivElemEnt...  quartography.objLivElemEnt...   \n",
       "1                           None                           None   \n",
       "2                            1.0                            6.0   \n",
       "\n",
       "                  90                       91       92                   93   \\\n",
       "0  transportDistIndex  transportDistIndexValue  nameObj  greenAreaIndexValue   \n",
       "1                None                     None     None                 None   \n",
       "2                None                     None     None                 None   \n",
       "\n",
       "                    94              95                             96   \\\n",
       "0  airQualityIndexValue  complexShortNm  developer.bankruptStage.ba...   \n",
       "1                  None            None                           None   \n",
       "2                  None            None                           None   \n",
       "\n",
       "                             97                             98   \\\n",
       "0  developer.bankruptStage.ba...  developer.bankruptStage.ba...   \n",
       "1                           None                           None   \n",
       "2                           None                           None   \n",
       "\n",
       "                            99        100         101         102  \\\n",
       "0  developer.orgBankruptMsgDttm  metro.id  metro.name  metro.line   \n",
       "1                          None      None        None        None   \n",
       "2                          None      None        None        None   \n",
       "\n",
       "           103         104           105  \n",
       "0  metro.color  metro.time  metro.isWalk  \n",
       "1         None        None          None  \n",
       "2         None        None          None  "
      ]
     },
     "execution_count": 58,
     "metadata": {},
     "output_type": "execute_result"
    }
   ],
   "source": [
    "# проверяем, что select работает\n",
    "result = curr.execute('select * from table1')\n",
    "df_from_sql = pd.DataFrame(result)\n",
    "df_from_sql.head(3)"
   ]
  },
  {
   "cell_type": "markdown",
   "metadata": {},
   "source": [
    "# HomeWork_2\n",
    "* Собрать информацию о всех строящихся объектах на сайте \"наш.дом.рф\" ++++\n",
    "* Cохранить результаты в pandas dataframe ++++\n",
    "<hr>\n",
    "\n",
    "* Проверить состояние датафрейма и привести его в формат, позволяющий дальнейшее исследование данных:\n",
    "-- Привести колонки датафрейма к одному типу данных ++++\n",
    "-- Проверить индекс, чтобы он соответствовал порядку строк ++++\n",
    "-- Проверить наличие пропусков и в случае обнаружения, определить стратегию их обработки ++++\n",
    "<hr>"
   ]
  },
  {
   "cell_type": "code",
   "execution_count": 2,
   "metadata": {
    "ExecuteTime": {
     "end_time": "2022-10-15T11:10:51.527466Z",
     "start_time": "2022-10-15T11:10:51.169019Z"
    }
   },
   "outputs": [],
   "source": [
    "# считываем датафрейм и оставляем только необходимые для исследований поля\n",
    "\n",
    "col = ['id', 'region', 'objReady100PercDt', 'objFloorCnt', 'objFlatCnt', 'objElemLivingCnt',\n",
    "       'objSquareLiving', 'objPriceAvg', 'objElemParkingCnt'] \n",
    "\n",
    "df = pd.read_pickle('HW1_objects_data.pkl', compression='zip').iloc[1:].reset_index(drop=True)[col]\n",
    "df = df.query('objFloorCnt != 0')\n",
    "\n",
    "\n",
    "colmap = {'objReady100PercDt':'YearReady', 'objElemLivingCnt':'ElemCnt', 'objSquareLiving':'SqrLiv',\n",
    "         'objElemParkingCnt':'PrkCnt'}\n",
    "df.rename(mapper=colmap, inplace=True, axis=1)\n",
    "df['YearReady'] = df['YearReady'].astype('datetime64[ns]').dt.year\n",
    "df['objFloorCnt'] = df['objFloorCnt'].astype('int64')\n"
   ]
  },
  {
   "cell_type": "code",
   "execution_count": 3,
   "metadata": {
    "ExecuteTime": {
     "end_time": "2022-10-15T11:10:53.678693Z",
     "start_time": "2022-10-15T11:10:53.629268Z"
    }
   },
   "outputs": [
    {
     "data": {
      "text/html": [
       "<div>\n",
       "<style scoped>\n",
       "    .dataframe tbody tr th:only-of-type {\n",
       "        vertical-align: middle;\n",
       "    }\n",
       "\n",
       "    .dataframe tbody tr th {\n",
       "        vertical-align: top;\n",
       "    }\n",
       "\n",
       "    .dataframe thead th {\n",
       "        text-align: right;\n",
       "    }\n",
       "</style>\n",
       "<table border=\"1\" class=\"dataframe\">\n",
       "  <thead>\n",
       "    <tr style=\"text-align: right;\">\n",
       "      <th></th>\n",
       "      <th>id</th>\n",
       "      <th>region</th>\n",
       "      <th>YearReady</th>\n",
       "      <th>objFloorCnt</th>\n",
       "      <th>objFlatCnt</th>\n",
       "      <th>ElemCnt</th>\n",
       "      <th>SqrLiv</th>\n",
       "      <th>objPriceAvg</th>\n",
       "      <th>PrkCnt</th>\n",
       "      <th>name_region</th>\n",
       "    </tr>\n",
       "  </thead>\n",
       "  <tbody>\n",
       "    <tr>\n",
       "      <th>7884</th>\n",
       "      <td>47937</td>\n",
       "      <td>14</td>\n",
       "      <td>2023</td>\n",
       "      <td>6</td>\n",
       "      <td>142</td>\n",
       "      <td>142</td>\n",
       "      <td>6124.44</td>\n",
       "      <td>NaN</td>\n",
       "      <td>0</td>\n",
       "      <td>Респ Саха /Якутия/</td>\n",
       "    </tr>\n",
       "    <tr>\n",
       "      <th>5374</th>\n",
       "      <td>8930</td>\n",
       "      <td>78</td>\n",
       "      <td>2024</td>\n",
       "      <td>1</td>\n",
       "      <td>0</td>\n",
       "      <td>0</td>\n",
       "      <td>0.00</td>\n",
       "      <td>NaN</td>\n",
       "      <td>0</td>\n",
       "      <td>г Санкт-Петербург</td>\n",
       "    </tr>\n",
       "    <tr>\n",
       "      <th>5851</th>\n",
       "      <td>42900</td>\n",
       "      <td>78</td>\n",
       "      <td>2024</td>\n",
       "      <td>12</td>\n",
       "      <td>538</td>\n",
       "      <td>538</td>\n",
       "      <td>45000.01</td>\n",
       "      <td>265728.0</td>\n",
       "      <td>326</td>\n",
       "      <td>г Санкт-Петербург</td>\n",
       "    </tr>\n",
       "  </tbody>\n",
       "</table>\n",
       "</div>"
      ],
      "text/plain": [
       "         id region  YearReady  objFloorCnt  objFlatCnt  ElemCnt    SqrLiv  \\\n",
       "7884  47937     14       2023            6         142      142   6124.44   \n",
       "5374   8930     78       2024            1           0        0      0.00   \n",
       "5851  42900     78       2024           12         538      538  45000.01   \n",
       "\n",
       "      objPriceAvg  PrkCnt         name_region  \n",
       "7884          NaN       0  Респ Саха /Якутия/  \n",
       "5374          NaN       0   г Санкт-Петербург  \n",
       "5851     265728.0     326   г Санкт-Петербург  "
      ]
     },
     "execution_count": 3,
     "metadata": {},
     "output_type": "execute_result"
    }
   ],
   "source": [
    "#скачаем названия регионов и добавим в df\n",
    "\n",
    "# url_region = 'https://github.com/hflabs/region/raw/master/region.csv'\n",
    "# res = requests.get(url_region)\n",
    "# data_region = res.text\n",
    "# with open('region.csv', 'w+', encoding='utf-8') as file:\n",
    "#     file.write(data_region)\n",
    "\n",
    "df_region = pd.read_csv('region.csv', sep=',')[['name_with_type', 'kladr_id']]\n",
    "df_region['kladr_id'] = (df_region['kladr_id']/100000000000).astype('int64')\n",
    "df_region.set_index('kladr_id', inplace=True)\n",
    "\n",
    "df = pd.merge(df, df_region, left_on='region', right_on=df_region.index)\n",
    "df.rename(columns={'name_with_type':'name_region'}, inplace=True)\n",
    "df['region'] = df['region'].astype('str')\n",
    "df.sample(3)"
   ]
  },
  {
   "cell_type": "code",
   "execution_count": 4,
   "metadata": {
    "ExecuteTime": {
     "end_time": "2022-10-15T11:11:01.878902Z",
     "start_time": "2022-10-15T11:11:01.851768Z"
    }
   },
   "outputs": [
    {
     "name": "stdout",
     "output_type": "stream",
     "text": [
      "<class 'pandas.core.frame.DataFrame'>\n",
      "Int64Index: 7520 entries, 0 to 10656\n",
      "Data columns (total 10 columns):\n",
      " #   Column       Non-Null Count  Dtype  \n",
      "---  ------       --------------  -----  \n",
      " 0   id           7520 non-null   int64  \n",
      " 1   region       7520 non-null   object \n",
      " 2   YearReady    7520 non-null   int64  \n",
      " 3   objFloorCnt  7520 non-null   int64  \n",
      " 4   objFlatCnt   7520 non-null   int64  \n",
      " 5   ElemCnt      7520 non-null   int64  \n",
      " 6   SqrLiv       7520 non-null   float64\n",
      " 7   objPriceAvg  7520 non-null   float64\n",
      " 8   PrkCnt       7520 non-null   int64  \n",
      " 9   name_region  7520 non-null   object \n",
      "dtypes: float64(2), int64(6), object(2)\n",
      "memory usage: 646.2+ KB\n"
     ]
    }
   ],
   "source": [
    "# для исследования средней цены оставим обьекты с известной ценой квадратного метра\n",
    "df_price = df[df['objPriceAvg'].notnull()]\n",
    "df_price.info()"
   ]
  },
  {
   "cell_type": "markdown",
   "metadata": {},
   "source": [
    "## Исследование\n",
    "\n",
    "* Провести мини-исследование рынка строящейся недвижимости в одном или нескольких регионах с помощью pandas, matplotlib, seaborn, plotly и других инструментов.\n",
    "-- Рассчитать средние цены за квадратный метр по регионам. Важно чтобы пропуски не учитывались при расчете средней цены. ++++\n",
    "-- Рассчитать объемы вводимого жилья по регионам и по годам.\n",
    "-- Сравнить этажность домов, количество квартир, жилую площадь, количество парковочных мест и цену за квадратный метр в разных регионах\n",
    "-- Визуализировать разброс, связь и распределение этих показателей по регионам\n",
    "-- Сделать выводы по каждому из расчетов и графиков"
   ]
  },
  {
   "cell_type": "code",
   "execution_count": 5,
   "metadata": {
    "ExecuteTime": {
     "end_time": "2022-10-15T11:11:05.476712Z",
     "start_time": "2022-10-15T11:11:04.755683Z"
    }
   },
   "outputs": [
    {
     "data": {
      "text/html": [
       "        <script type=\"text/javascript\">\n",
       "        window.PlotlyConfig = {MathJaxConfig: 'local'};\n",
       "        if (window.MathJax && window.MathJax.Hub && window.MathJax.Hub.Config) {window.MathJax.Hub.Config({SVG: {font: \"STIX-Web\"}});}\n",
       "        if (typeof require !== 'undefined') {\n",
       "        require.undef(\"plotly\");\n",
       "        requirejs.config({\n",
       "            paths: {\n",
       "                'plotly': ['https://cdn.plot.ly/plotly-2.14.0.min']\n",
       "            }\n",
       "        });\n",
       "        require(['plotly'], function(Plotly) {\n",
       "            window._Plotly = Plotly;\n",
       "        });\n",
       "        }\n",
       "        </script>\n",
       "        "
      ]
     },
     "metadata": {},
     "output_type": "display_data"
    },
    {
     "data": {
      "text/html": [
       "        <script type=\"text/javascript\">\n",
       "        window.PlotlyConfig = {MathJaxConfig: 'local'};\n",
       "        if (window.MathJax && window.MathJax.Hub && window.MathJax.Hub.Config) {window.MathJax.Hub.Config({SVG: {font: \"STIX-Web\"}});}\n",
       "        if (typeof require !== 'undefined') {\n",
       "        require.undef(\"plotly\");\n",
       "        requirejs.config({\n",
       "            paths: {\n",
       "                'plotly': ['https://cdn.plot.ly/plotly-2.14.0.min']\n",
       "            }\n",
       "        });\n",
       "        require(['plotly'], function(Plotly) {\n",
       "            window._Plotly = Plotly;\n",
       "        });\n",
       "        }\n",
       "        </script>\n",
       "        "
      ]
     },
     "metadata": {},
     "output_type": "display_data"
    }
   ],
   "source": [
    "# !pip install cufflinks\n",
    "# !pip install plotly\n",
    "# Standard plotly imports\n",
    "import plotly as py\n",
    "import plotly.graph_objs as go\n",
    "import plotly.express as px\n",
    "from plotly.offline import iplot, init_notebook_mode\n",
    "# Using plotly + cufflinks in offline mode\n",
    "import cufflinks as cf\n",
    "cf.go_offline(connected=True)\n",
    "init_notebook_mode(connected=True)"
   ]
  },
  {
   "cell_type": "code",
   "execution_count": 6,
   "metadata": {
    "ExecuteTime": {
     "end_time": "2022-10-15T11:11:10.588747Z",
     "start_time": "2022-10-15T11:11:09.860771Z"
    }
   },
   "outputs": [
    {
     "data": {
      "application/vnd.plotly.v1+json": {
       "config": {
        "linkText": "Export to plot.ly",
        "plotlyServerURL": "https://plot.ly",
        "showLink": true
       },
       "data": [
        {
         "marker": {
          "color": "rgba(255, 153, 51, 0.6)",
          "line": {
           "color": "rgba(255, 153, 51, 1.0)",
           "width": 1
          }
         },
         "name": "objPriceAvg",
         "orientation": "v",
         "text": "",
         "type": "bar",
         "x": [
          "г Москва",
          "г Санкт-Петербург",
          "Сахалинская обл",
          "Московская обл",
          "Приморский край",
          "Ленинградская обл",
          "г Севастополь",
          "Амурская обл",
          "Забайкальский край",
          "Респ Татарстан",
          "Краснодарский край",
          "Респ Саха /Якутия/",
          "Респ Крым",
          "Респ Тыва",
          "Нижегородская обл",
          "Свердловская обл",
          "Ямало-Ненецкий АО",
          "Иркутская обл",
          "Хабаровский край",
          "Респ Карелия",
          "Калининградская обл",
          "ХМАО",
          "Новосибирская обл",
          "Пермский край",
          "Тюменская обл",
          "Магаданская обл",
          "Архангельская обл",
          "Томская обл",
          "Респ Коми",
          "Красноярский край",
          "Астраханская обл",
          "Калужская обл",
          "Белгородская обл",
          "Респ Алтай",
          "Ростовская обл",
          "Тульская обл",
          "Респ Башкортостан",
          "Респ Удмуртская",
          "Ставропольский край",
          "Рязанская обл",
          "Кировская обл",
          "Волгоградская обл",
          "Самарская обл",
          "Новгородская обл",
          "Алтайский край",
          "Пензенская обл",
          "Ярославская обл",
          "Тверская обл",
          "Воронежская обл",
          "Респ Бурятия",
          "Ульяновская обл",
          "Курская обл",
          "Орловская обл",
          "Омская обл",
          "Респ Хакасия",
          "Чувашская Республика",
          "Респ Адыгея",
          "Респ Мордовия",
          "Липецкая обл",
          "Оренбургская обл",
          "Ивановская обл",
          "Кемеровская область",
          "Владимирская обл",
          "Брянская обл",
          "Саратовская обл",
          "Челябинская обл",
          "Тамбовская обл",
          "Респ Марий Эл",
          "Вологодская обл",
          "Курганская обл",
          "Смоленская обл",
          "Респ Калмыкия",
          "Псковская обл",
          "Респ Кабардино-Балкарская",
          "Респ Северная Осетия",
          "Костромская обл",
          "Респ Чеченская",
          "Респ Дагестан"
         ],
         "y": [
          316674.984871407,
          171039.4691629956,
          136846,
          122427.82263513513,
          120960.26219512195,
          117649.40265486726,
          117495.81818181818,
          116050.86363636363,
          115177.33333333333,
          113911.375,
          113387.2913505311,
          112973.10256410256,
          109175.96052631579,
          106188.625,
          97799.5090909091,
          95198.4631147541,
          92420.23809523809,
          92156.51515151515,
          91459.01219512195,
          90146.66666666667,
          89727.14012738854,
          89012.1052631579,
          88349.89115646259,
          87703.73333333334,
          85707.98009950249,
          85070,
          82845.8947368421,
          82714.1,
          81847.33333333333,
          80141.83185840708,
          79649,
          79265.18644067796,
          79191.72727272728,
          78680.25,
          78548.61616161616,
          77821.73684210527,
          76555.53608247422,
          75053.25,
          72610.41509433962,
          71972.16071428571,
          71862.25,
          71620.89772727272,
          71051.1953125,
          70179.8,
          69779.05555555556,
          69023.05263157895,
          68822.60869565218,
          67314.31481481482,
          66973.25663716815,
          66963.1081081081,
          66334.74509803922,
          66173.31034482758,
          65204.2,
          64807.5,
          64295.583333333336,
          64241.229508196724,
          63571.85294117647,
          63346,
          60802.22580645161,
          60610.51351351351,
          60592.69696969697,
          60157.15277777778,
          59653.05617977528,
          57728.32608695652,
          57475.19047619047,
          57148.336134453784,
          55216.290322580644,
          55182.975,
          53747.87640449438,
          52860.290322580644,
          51810.163636363635,
          50484.1,
          50289.64,
          48385.375,
          44159.121212121216,
          43898.69387755102,
          32742.333333333332,
          24695.909090909092
         ]
        }
       ],
       "layout": {
        "legend": {
         "bgcolor": "#F5F6F9",
         "font": {
          "color": "#4D5663"
         }
        },
        "paper_bgcolor": "#F5F6F9",
        "plot_bgcolor": "#F5F6F9",
        "template": {
         "data": {
          "bar": [
           {
            "error_x": {
             "color": "#2a3f5f"
            },
            "error_y": {
             "color": "#2a3f5f"
            },
            "marker": {
             "line": {
              "color": "#E5ECF6",
              "width": 0.5
             },
             "pattern": {
              "fillmode": "overlay",
              "size": 10,
              "solidity": 0.2
             }
            },
            "type": "bar"
           }
          ],
          "barpolar": [
           {
            "marker": {
             "line": {
              "color": "#E5ECF6",
              "width": 0.5
             },
             "pattern": {
              "fillmode": "overlay",
              "size": 10,
              "solidity": 0.2
             }
            },
            "type": "barpolar"
           }
          ],
          "carpet": [
           {
            "aaxis": {
             "endlinecolor": "#2a3f5f",
             "gridcolor": "white",
             "linecolor": "white",
             "minorgridcolor": "white",
             "startlinecolor": "#2a3f5f"
            },
            "baxis": {
             "endlinecolor": "#2a3f5f",
             "gridcolor": "white",
             "linecolor": "white",
             "minorgridcolor": "white",
             "startlinecolor": "#2a3f5f"
            },
            "type": "carpet"
           }
          ],
          "choropleth": [
           {
            "colorbar": {
             "outlinewidth": 0,
             "ticks": ""
            },
            "type": "choropleth"
           }
          ],
          "contour": [
           {
            "colorbar": {
             "outlinewidth": 0,
             "ticks": ""
            },
            "colorscale": [
             [
              0,
              "#0d0887"
             ],
             [
              0.1111111111111111,
              "#46039f"
             ],
             [
              0.2222222222222222,
              "#7201a8"
             ],
             [
              0.3333333333333333,
              "#9c179e"
             ],
             [
              0.4444444444444444,
              "#bd3786"
             ],
             [
              0.5555555555555556,
              "#d8576b"
             ],
             [
              0.6666666666666666,
              "#ed7953"
             ],
             [
              0.7777777777777778,
              "#fb9f3a"
             ],
             [
              0.8888888888888888,
              "#fdca26"
             ],
             [
              1,
              "#f0f921"
             ]
            ],
            "type": "contour"
           }
          ],
          "contourcarpet": [
           {
            "colorbar": {
             "outlinewidth": 0,
             "ticks": ""
            },
            "type": "contourcarpet"
           }
          ],
          "heatmap": [
           {
            "colorbar": {
             "outlinewidth": 0,
             "ticks": ""
            },
            "colorscale": [
             [
              0,
              "#0d0887"
             ],
             [
              0.1111111111111111,
              "#46039f"
             ],
             [
              0.2222222222222222,
              "#7201a8"
             ],
             [
              0.3333333333333333,
              "#9c179e"
             ],
             [
              0.4444444444444444,
              "#bd3786"
             ],
             [
              0.5555555555555556,
              "#d8576b"
             ],
             [
              0.6666666666666666,
              "#ed7953"
             ],
             [
              0.7777777777777778,
              "#fb9f3a"
             ],
             [
              0.8888888888888888,
              "#fdca26"
             ],
             [
              1,
              "#f0f921"
             ]
            ],
            "type": "heatmap"
           }
          ],
          "heatmapgl": [
           {
            "colorbar": {
             "outlinewidth": 0,
             "ticks": ""
            },
            "colorscale": [
             [
              0,
              "#0d0887"
             ],
             [
              0.1111111111111111,
              "#46039f"
             ],
             [
              0.2222222222222222,
              "#7201a8"
             ],
             [
              0.3333333333333333,
              "#9c179e"
             ],
             [
              0.4444444444444444,
              "#bd3786"
             ],
             [
              0.5555555555555556,
              "#d8576b"
             ],
             [
              0.6666666666666666,
              "#ed7953"
             ],
             [
              0.7777777777777778,
              "#fb9f3a"
             ],
             [
              0.8888888888888888,
              "#fdca26"
             ],
             [
              1,
              "#f0f921"
             ]
            ],
            "type": "heatmapgl"
           }
          ],
          "histogram": [
           {
            "marker": {
             "pattern": {
              "fillmode": "overlay",
              "size": 10,
              "solidity": 0.2
             }
            },
            "type": "histogram"
           }
          ],
          "histogram2d": [
           {
            "colorbar": {
             "outlinewidth": 0,
             "ticks": ""
            },
            "colorscale": [
             [
              0,
              "#0d0887"
             ],
             [
              0.1111111111111111,
              "#46039f"
             ],
             [
              0.2222222222222222,
              "#7201a8"
             ],
             [
              0.3333333333333333,
              "#9c179e"
             ],
             [
              0.4444444444444444,
              "#bd3786"
             ],
             [
              0.5555555555555556,
              "#d8576b"
             ],
             [
              0.6666666666666666,
              "#ed7953"
             ],
             [
              0.7777777777777778,
              "#fb9f3a"
             ],
             [
              0.8888888888888888,
              "#fdca26"
             ],
             [
              1,
              "#f0f921"
             ]
            ],
            "type": "histogram2d"
           }
          ],
          "histogram2dcontour": [
           {
            "colorbar": {
             "outlinewidth": 0,
             "ticks": ""
            },
            "colorscale": [
             [
              0,
              "#0d0887"
             ],
             [
              0.1111111111111111,
              "#46039f"
             ],
             [
              0.2222222222222222,
              "#7201a8"
             ],
             [
              0.3333333333333333,
              "#9c179e"
             ],
             [
              0.4444444444444444,
              "#bd3786"
             ],
             [
              0.5555555555555556,
              "#d8576b"
             ],
             [
              0.6666666666666666,
              "#ed7953"
             ],
             [
              0.7777777777777778,
              "#fb9f3a"
             ],
             [
              0.8888888888888888,
              "#fdca26"
             ],
             [
              1,
              "#f0f921"
             ]
            ],
            "type": "histogram2dcontour"
           }
          ],
          "mesh3d": [
           {
            "colorbar": {
             "outlinewidth": 0,
             "ticks": ""
            },
            "type": "mesh3d"
           }
          ],
          "parcoords": [
           {
            "line": {
             "colorbar": {
              "outlinewidth": 0,
              "ticks": ""
             }
            },
            "type": "parcoords"
           }
          ],
          "pie": [
           {
            "automargin": true,
            "type": "pie"
           }
          ],
          "scatter": [
           {
            "fillpattern": {
             "fillmode": "overlay",
             "size": 10,
             "solidity": 0.2
            },
            "type": "scatter"
           }
          ],
          "scatter3d": [
           {
            "line": {
             "colorbar": {
              "outlinewidth": 0,
              "ticks": ""
             }
            },
            "marker": {
             "colorbar": {
              "outlinewidth": 0,
              "ticks": ""
             }
            },
            "type": "scatter3d"
           }
          ],
          "scattercarpet": [
           {
            "marker": {
             "colorbar": {
              "outlinewidth": 0,
              "ticks": ""
             }
            },
            "type": "scattercarpet"
           }
          ],
          "scattergeo": [
           {
            "marker": {
             "colorbar": {
              "outlinewidth": 0,
              "ticks": ""
             }
            },
            "type": "scattergeo"
           }
          ],
          "scattergl": [
           {
            "marker": {
             "colorbar": {
              "outlinewidth": 0,
              "ticks": ""
             }
            },
            "type": "scattergl"
           }
          ],
          "scattermapbox": [
           {
            "marker": {
             "colorbar": {
              "outlinewidth": 0,
              "ticks": ""
             }
            },
            "type": "scattermapbox"
           }
          ],
          "scatterpolar": [
           {
            "marker": {
             "colorbar": {
              "outlinewidth": 0,
              "ticks": ""
             }
            },
            "type": "scatterpolar"
           }
          ],
          "scatterpolargl": [
           {
            "marker": {
             "colorbar": {
              "outlinewidth": 0,
              "ticks": ""
             }
            },
            "type": "scatterpolargl"
           }
          ],
          "scatterternary": [
           {
            "marker": {
             "colorbar": {
              "outlinewidth": 0,
              "ticks": ""
             }
            },
            "type": "scatterternary"
           }
          ],
          "surface": [
           {
            "colorbar": {
             "outlinewidth": 0,
             "ticks": ""
            },
            "colorscale": [
             [
              0,
              "#0d0887"
             ],
             [
              0.1111111111111111,
              "#46039f"
             ],
             [
              0.2222222222222222,
              "#7201a8"
             ],
             [
              0.3333333333333333,
              "#9c179e"
             ],
             [
              0.4444444444444444,
              "#bd3786"
             ],
             [
              0.5555555555555556,
              "#d8576b"
             ],
             [
              0.6666666666666666,
              "#ed7953"
             ],
             [
              0.7777777777777778,
              "#fb9f3a"
             ],
             [
              0.8888888888888888,
              "#fdca26"
             ],
             [
              1,
              "#f0f921"
             ]
            ],
            "type": "surface"
           }
          ],
          "table": [
           {
            "cells": {
             "fill": {
              "color": "#EBF0F8"
             },
             "line": {
              "color": "white"
             }
            },
            "header": {
             "fill": {
              "color": "#C8D4E3"
             },
             "line": {
              "color": "white"
             }
            },
            "type": "table"
           }
          ]
         },
         "layout": {
          "annotationdefaults": {
           "arrowcolor": "#2a3f5f",
           "arrowhead": 0,
           "arrowwidth": 1
          },
          "autotypenumbers": "strict",
          "coloraxis": {
           "colorbar": {
            "outlinewidth": 0,
            "ticks": ""
           }
          },
          "colorscale": {
           "diverging": [
            [
             0,
             "#8e0152"
            ],
            [
             0.1,
             "#c51b7d"
            ],
            [
             0.2,
             "#de77ae"
            ],
            [
             0.3,
             "#f1b6da"
            ],
            [
             0.4,
             "#fde0ef"
            ],
            [
             0.5,
             "#f7f7f7"
            ],
            [
             0.6,
             "#e6f5d0"
            ],
            [
             0.7,
             "#b8e186"
            ],
            [
             0.8,
             "#7fbc41"
            ],
            [
             0.9,
             "#4d9221"
            ],
            [
             1,
             "#276419"
            ]
           ],
           "sequential": [
            [
             0,
             "#0d0887"
            ],
            [
             0.1111111111111111,
             "#46039f"
            ],
            [
             0.2222222222222222,
             "#7201a8"
            ],
            [
             0.3333333333333333,
             "#9c179e"
            ],
            [
             0.4444444444444444,
             "#bd3786"
            ],
            [
             0.5555555555555556,
             "#d8576b"
            ],
            [
             0.6666666666666666,
             "#ed7953"
            ],
            [
             0.7777777777777778,
             "#fb9f3a"
            ],
            [
             0.8888888888888888,
             "#fdca26"
            ],
            [
             1,
             "#f0f921"
            ]
           ],
           "sequentialminus": [
            [
             0,
             "#0d0887"
            ],
            [
             0.1111111111111111,
             "#46039f"
            ],
            [
             0.2222222222222222,
             "#7201a8"
            ],
            [
             0.3333333333333333,
             "#9c179e"
            ],
            [
             0.4444444444444444,
             "#bd3786"
            ],
            [
             0.5555555555555556,
             "#d8576b"
            ],
            [
             0.6666666666666666,
             "#ed7953"
            ],
            [
             0.7777777777777778,
             "#fb9f3a"
            ],
            [
             0.8888888888888888,
             "#fdca26"
            ],
            [
             1,
             "#f0f921"
            ]
           ]
          },
          "colorway": [
           "#636efa",
           "#EF553B",
           "#00cc96",
           "#ab63fa",
           "#FFA15A",
           "#19d3f3",
           "#FF6692",
           "#B6E880",
           "#FF97FF",
           "#FECB52"
          ],
          "font": {
           "color": "#2a3f5f"
          },
          "geo": {
           "bgcolor": "white",
           "lakecolor": "white",
           "landcolor": "#E5ECF6",
           "showlakes": true,
           "showland": true,
           "subunitcolor": "white"
          },
          "hoverlabel": {
           "align": "left"
          },
          "hovermode": "closest",
          "mapbox": {
           "style": "light"
          },
          "paper_bgcolor": "white",
          "plot_bgcolor": "#E5ECF6",
          "polar": {
           "angularaxis": {
            "gridcolor": "white",
            "linecolor": "white",
            "ticks": ""
           },
           "bgcolor": "#E5ECF6",
           "radialaxis": {
            "gridcolor": "white",
            "linecolor": "white",
            "ticks": ""
           }
          },
          "scene": {
           "xaxis": {
            "backgroundcolor": "#E5ECF6",
            "gridcolor": "white",
            "gridwidth": 2,
            "linecolor": "white",
            "showbackground": true,
            "ticks": "",
            "zerolinecolor": "white"
           },
           "yaxis": {
            "backgroundcolor": "#E5ECF6",
            "gridcolor": "white",
            "gridwidth": 2,
            "linecolor": "white",
            "showbackground": true,
            "ticks": "",
            "zerolinecolor": "white"
           },
           "zaxis": {
            "backgroundcolor": "#E5ECF6",
            "gridcolor": "white",
            "gridwidth": 2,
            "linecolor": "white",
            "showbackground": true,
            "ticks": "",
            "zerolinecolor": "white"
           }
          },
          "shapedefaults": {
           "line": {
            "color": "#2a3f5f"
           }
          },
          "ternary": {
           "aaxis": {
            "gridcolor": "white",
            "linecolor": "white",
            "ticks": ""
           },
           "baxis": {
            "gridcolor": "white",
            "linecolor": "white",
            "ticks": ""
           },
           "bgcolor": "#E5ECF6",
           "caxis": {
            "gridcolor": "white",
            "linecolor": "white",
            "ticks": ""
           }
          },
          "title": {
           "x": 0.05
          },
          "xaxis": {
           "automargin": true,
           "gridcolor": "white",
           "linecolor": "white",
           "ticks": "",
           "title": {
            "standoff": 15
           },
           "zerolinecolor": "white",
           "zerolinewidth": 2
          },
          "yaxis": {
           "automargin": true,
           "gridcolor": "white",
           "linecolor": "white",
           "ticks": "",
           "title": {
            "standoff": 15
           },
           "zerolinecolor": "white",
           "zerolinewidth": 2
          }
         }
        },
        "title": {
         "font": {
          "color": "#4D5663"
         },
         "text": "Cредняя цена за квадратный метр по регионам, в рублях"
        },
        "xaxis": {
         "gridcolor": "#E1E5ED",
         "showgrid": true,
         "tickfont": {
          "color": "#4D5663"
         },
         "title": {
          "font": {
           "color": "#4D5663"
          },
          "text": "Регион РФ"
         },
         "zerolinecolor": "#E1E5ED"
        },
        "yaxis": {
         "gridcolor": "#E1E5ED",
         "showgrid": true,
         "tickfont": {
          "color": "#4D5663"
         },
         "title": {
          "font": {
           "color": "#4D5663"
          },
          "text": "средняя цена"
         },
         "zerolinecolor": "#E1E5ED"
        }
       }
      },
      "text/html": [
       "<div>                            <div id=\"3de19a92-39a2-4ac2-98ef-05aa8b8ecc72\" class=\"plotly-graph-div\" style=\"height:525px; width:100%;\"></div>            <script type=\"text/javascript\">                require([\"plotly\"], function(Plotly) {                    window.PLOTLYENV=window.PLOTLYENV || {};\n",
       "                    window.PLOTLYENV.BASE_URL='https://plot.ly';                                    if (document.getElementById(\"3de19a92-39a2-4ac2-98ef-05aa8b8ecc72\")) {                    Plotly.newPlot(                        \"3de19a92-39a2-4ac2-98ef-05aa8b8ecc72\",                        [{\"marker\":{\"color\":\"rgba(255, 153, 51, 0.6)\",\"line\":{\"color\":\"rgba(255, 153, 51, 1.0)\",\"width\":1}},\"name\":\"objPriceAvg\",\"orientation\":\"v\",\"text\":\"\",\"x\":[\"\\u0433 \\u041c\\u043e\\u0441\\u043a\\u0432\\u0430\",\"\\u0433 \\u0421\\u0430\\u043d\\u043a\\u0442-\\u041f\\u0435\\u0442\\u0435\\u0440\\u0431\\u0443\\u0440\\u0433\",\"\\u0421\\u0430\\u0445\\u0430\\u043b\\u0438\\u043d\\u0441\\u043a\\u0430\\u044f \\u043e\\u0431\\u043b\",\"\\u041c\\u043e\\u0441\\u043a\\u043e\\u0432\\u0441\\u043a\\u0430\\u044f \\u043e\\u0431\\u043b\",\"\\u041f\\u0440\\u0438\\u043c\\u043e\\u0440\\u0441\\u043a\\u0438\\u0439 \\u043a\\u0440\\u0430\\u0439\",\"\\u041b\\u0435\\u043d\\u0438\\u043d\\u0433\\u0440\\u0430\\u0434\\u0441\\u043a\\u0430\\u044f \\u043e\\u0431\\u043b\",\"\\u0433 \\u0421\\u0435\\u0432\\u0430\\u0441\\u0442\\u043e\\u043f\\u043e\\u043b\\u044c\",\"\\u0410\\u043c\\u0443\\u0440\\u0441\\u043a\\u0430\\u044f \\u043e\\u0431\\u043b\",\"\\u0417\\u0430\\u0431\\u0430\\u0439\\u043a\\u0430\\u043b\\u044c\\u0441\\u043a\\u0438\\u0439 \\u043a\\u0440\\u0430\\u0439\",\"\\u0420\\u0435\\u0441\\u043f \\u0422\\u0430\\u0442\\u0430\\u0440\\u0441\\u0442\\u0430\\u043d\",\"\\u041a\\u0440\\u0430\\u0441\\u043d\\u043e\\u0434\\u0430\\u0440\\u0441\\u043a\\u0438\\u0439 \\u043a\\u0440\\u0430\\u0439\",\"\\u0420\\u0435\\u0441\\u043f \\u0421\\u0430\\u0445\\u0430 /\\u042f\\u043a\\u0443\\u0442\\u0438\\u044f/\",\"\\u0420\\u0435\\u0441\\u043f \\u041a\\u0440\\u044b\\u043c\",\"\\u0420\\u0435\\u0441\\u043f \\u0422\\u044b\\u0432\\u0430\",\"\\u041d\\u0438\\u0436\\u0435\\u0433\\u043e\\u0440\\u043e\\u0434\\u0441\\u043a\\u0430\\u044f \\u043e\\u0431\\u043b\",\"\\u0421\\u0432\\u0435\\u0440\\u0434\\u043b\\u043e\\u0432\\u0441\\u043a\\u0430\\u044f \\u043e\\u0431\\u043b\",\"\\u042f\\u043c\\u0430\\u043b\\u043e-\\u041d\\u0435\\u043d\\u0435\\u0446\\u043a\\u0438\\u0439 \\u0410\\u041e\",\"\\u0418\\u0440\\u043a\\u0443\\u0442\\u0441\\u043a\\u0430\\u044f \\u043e\\u0431\\u043b\",\"\\u0425\\u0430\\u0431\\u0430\\u0440\\u043e\\u0432\\u0441\\u043a\\u0438\\u0439 \\u043a\\u0440\\u0430\\u0439\",\"\\u0420\\u0435\\u0441\\u043f \\u041a\\u0430\\u0440\\u0435\\u043b\\u0438\\u044f\",\"\\u041a\\u0430\\u043b\\u0438\\u043d\\u0438\\u043d\\u0433\\u0440\\u0430\\u0434\\u0441\\u043a\\u0430\\u044f \\u043e\\u0431\\u043b\",\"\\u0425\\u041c\\u0410\\u041e\",\"\\u041d\\u043e\\u0432\\u043e\\u0441\\u0438\\u0431\\u0438\\u0440\\u0441\\u043a\\u0430\\u044f \\u043e\\u0431\\u043b\",\"\\u041f\\u0435\\u0440\\u043c\\u0441\\u043a\\u0438\\u0439 \\u043a\\u0440\\u0430\\u0439\",\"\\u0422\\u044e\\u043c\\u0435\\u043d\\u0441\\u043a\\u0430\\u044f \\u043e\\u0431\\u043b\",\"\\u041c\\u0430\\u0433\\u0430\\u0434\\u0430\\u043d\\u0441\\u043a\\u0430\\u044f \\u043e\\u0431\\u043b\",\"\\u0410\\u0440\\u0445\\u0430\\u043d\\u0433\\u0435\\u043b\\u044c\\u0441\\u043a\\u0430\\u044f \\u043e\\u0431\\u043b\",\"\\u0422\\u043e\\u043c\\u0441\\u043a\\u0430\\u044f \\u043e\\u0431\\u043b\",\"\\u0420\\u0435\\u0441\\u043f \\u041a\\u043e\\u043c\\u0438\",\"\\u041a\\u0440\\u0430\\u0441\\u043d\\u043e\\u044f\\u0440\\u0441\\u043a\\u0438\\u0439 \\u043a\\u0440\\u0430\\u0439\",\"\\u0410\\u0441\\u0442\\u0440\\u0430\\u0445\\u0430\\u043d\\u0441\\u043a\\u0430\\u044f \\u043e\\u0431\\u043b\",\"\\u041a\\u0430\\u043b\\u0443\\u0436\\u0441\\u043a\\u0430\\u044f \\u043e\\u0431\\u043b\",\"\\u0411\\u0435\\u043b\\u0433\\u043e\\u0440\\u043e\\u0434\\u0441\\u043a\\u0430\\u044f \\u043e\\u0431\\u043b\",\"\\u0420\\u0435\\u0441\\u043f \\u0410\\u043b\\u0442\\u0430\\u0439\",\"\\u0420\\u043e\\u0441\\u0442\\u043e\\u0432\\u0441\\u043a\\u0430\\u044f \\u043e\\u0431\\u043b\",\"\\u0422\\u0443\\u043b\\u044c\\u0441\\u043a\\u0430\\u044f \\u043e\\u0431\\u043b\",\"\\u0420\\u0435\\u0441\\u043f \\u0411\\u0430\\u0448\\u043a\\u043e\\u0440\\u0442\\u043e\\u0441\\u0442\\u0430\\u043d\",\"\\u0420\\u0435\\u0441\\u043f \\u0423\\u0434\\u043c\\u0443\\u0440\\u0442\\u0441\\u043a\\u0430\\u044f\",\"\\u0421\\u0442\\u0430\\u0432\\u0440\\u043e\\u043f\\u043e\\u043b\\u044c\\u0441\\u043a\\u0438\\u0439 \\u043a\\u0440\\u0430\\u0439\",\"\\u0420\\u044f\\u0437\\u0430\\u043d\\u0441\\u043a\\u0430\\u044f \\u043e\\u0431\\u043b\",\"\\u041a\\u0438\\u0440\\u043e\\u0432\\u0441\\u043a\\u0430\\u044f \\u043e\\u0431\\u043b\",\"\\u0412\\u043e\\u043b\\u0433\\u043e\\u0433\\u0440\\u0430\\u0434\\u0441\\u043a\\u0430\\u044f \\u043e\\u0431\\u043b\",\"\\u0421\\u0430\\u043c\\u0430\\u0440\\u0441\\u043a\\u0430\\u044f \\u043e\\u0431\\u043b\",\"\\u041d\\u043e\\u0432\\u0433\\u043e\\u0440\\u043e\\u0434\\u0441\\u043a\\u0430\\u044f \\u043e\\u0431\\u043b\",\"\\u0410\\u043b\\u0442\\u0430\\u0439\\u0441\\u043a\\u0438\\u0439 \\u043a\\u0440\\u0430\\u0439\",\"\\u041f\\u0435\\u043d\\u0437\\u0435\\u043d\\u0441\\u043a\\u0430\\u044f \\u043e\\u0431\\u043b\",\"\\u042f\\u0440\\u043e\\u0441\\u043b\\u0430\\u0432\\u0441\\u043a\\u0430\\u044f \\u043e\\u0431\\u043b\",\"\\u0422\\u0432\\u0435\\u0440\\u0441\\u043a\\u0430\\u044f \\u043e\\u0431\\u043b\",\"\\u0412\\u043e\\u0440\\u043e\\u043d\\u0435\\u0436\\u0441\\u043a\\u0430\\u044f \\u043e\\u0431\\u043b\",\"\\u0420\\u0435\\u0441\\u043f \\u0411\\u0443\\u0440\\u044f\\u0442\\u0438\\u044f\",\"\\u0423\\u043b\\u044c\\u044f\\u043d\\u043e\\u0432\\u0441\\u043a\\u0430\\u044f \\u043e\\u0431\\u043b\",\"\\u041a\\u0443\\u0440\\u0441\\u043a\\u0430\\u044f \\u043e\\u0431\\u043b\",\"\\u041e\\u0440\\u043b\\u043e\\u0432\\u0441\\u043a\\u0430\\u044f \\u043e\\u0431\\u043b\",\"\\u041e\\u043c\\u0441\\u043a\\u0430\\u044f \\u043e\\u0431\\u043b\",\"\\u0420\\u0435\\u0441\\u043f \\u0425\\u0430\\u043a\\u0430\\u0441\\u0438\\u044f\",\"\\u0427\\u0443\\u0432\\u0430\\u0448\\u0441\\u043a\\u0430\\u044f \\u0420\\u0435\\u0441\\u043f\\u0443\\u0431\\u043b\\u0438\\u043a\\u0430\",\"\\u0420\\u0435\\u0441\\u043f \\u0410\\u0434\\u044b\\u0433\\u0435\\u044f\",\"\\u0420\\u0435\\u0441\\u043f \\u041c\\u043e\\u0440\\u0434\\u043e\\u0432\\u0438\\u044f\",\"\\u041b\\u0438\\u043f\\u0435\\u0446\\u043a\\u0430\\u044f \\u043e\\u0431\\u043b\",\"\\u041e\\u0440\\u0435\\u043d\\u0431\\u0443\\u0440\\u0433\\u0441\\u043a\\u0430\\u044f \\u043e\\u0431\\u043b\",\"\\u0418\\u0432\\u0430\\u043d\\u043e\\u0432\\u0441\\u043a\\u0430\\u044f \\u043e\\u0431\\u043b\",\"\\u041a\\u0435\\u043c\\u0435\\u0440\\u043e\\u0432\\u0441\\u043a\\u0430\\u044f \\u043e\\u0431\\u043b\\u0430\\u0441\\u0442\\u044c\",\"\\u0412\\u043b\\u0430\\u0434\\u0438\\u043c\\u0438\\u0440\\u0441\\u043a\\u0430\\u044f \\u043e\\u0431\\u043b\",\"\\u0411\\u0440\\u044f\\u043d\\u0441\\u043a\\u0430\\u044f \\u043e\\u0431\\u043b\",\"\\u0421\\u0430\\u0440\\u0430\\u0442\\u043e\\u0432\\u0441\\u043a\\u0430\\u044f \\u043e\\u0431\\u043b\",\"\\u0427\\u0435\\u043b\\u044f\\u0431\\u0438\\u043d\\u0441\\u043a\\u0430\\u044f \\u043e\\u0431\\u043b\",\"\\u0422\\u0430\\u043c\\u0431\\u043e\\u0432\\u0441\\u043a\\u0430\\u044f \\u043e\\u0431\\u043b\",\"\\u0420\\u0435\\u0441\\u043f \\u041c\\u0430\\u0440\\u0438\\u0439 \\u042d\\u043b\",\"\\u0412\\u043e\\u043b\\u043e\\u0433\\u043e\\u0434\\u0441\\u043a\\u0430\\u044f \\u043e\\u0431\\u043b\",\"\\u041a\\u0443\\u0440\\u0433\\u0430\\u043d\\u0441\\u043a\\u0430\\u044f \\u043e\\u0431\\u043b\",\"\\u0421\\u043c\\u043e\\u043b\\u0435\\u043d\\u0441\\u043a\\u0430\\u044f \\u043e\\u0431\\u043b\",\"\\u0420\\u0435\\u0441\\u043f \\u041a\\u0430\\u043b\\u043c\\u044b\\u043a\\u0438\\u044f\",\"\\u041f\\u0441\\u043a\\u043e\\u0432\\u0441\\u043a\\u0430\\u044f \\u043e\\u0431\\u043b\",\"\\u0420\\u0435\\u0441\\u043f \\u041a\\u0430\\u0431\\u0430\\u0440\\u0434\\u0438\\u043d\\u043e-\\u0411\\u0430\\u043b\\u043a\\u0430\\u0440\\u0441\\u043a\\u0430\\u044f\",\"\\u0420\\u0435\\u0441\\u043f \\u0421\\u0435\\u0432\\u0435\\u0440\\u043d\\u0430\\u044f \\u041e\\u0441\\u0435\\u0442\\u0438\\u044f\",\"\\u041a\\u043e\\u0441\\u0442\\u0440\\u043e\\u043c\\u0441\\u043a\\u0430\\u044f \\u043e\\u0431\\u043b\",\"\\u0420\\u0435\\u0441\\u043f \\u0427\\u0435\\u0447\\u0435\\u043d\\u0441\\u043a\\u0430\\u044f\",\"\\u0420\\u0435\\u0441\\u043f \\u0414\\u0430\\u0433\\u0435\\u0441\\u0442\\u0430\\u043d\"],\"y\":[316674.984871407,171039.4691629956,136846.0,122427.82263513513,120960.26219512195,117649.40265486726,117495.81818181818,116050.86363636363,115177.33333333333,113911.375,113387.2913505311,112973.10256410256,109175.96052631579,106188.625,97799.5090909091,95198.4631147541,92420.23809523809,92156.51515151515,91459.01219512195,90146.66666666667,89727.14012738854,89012.1052631579,88349.89115646259,87703.73333333334,85707.98009950249,85070.0,82845.8947368421,82714.1,81847.33333333333,80141.83185840708,79649.0,79265.18644067796,79191.72727272728,78680.25,78548.61616161616,77821.73684210527,76555.53608247422,75053.25,72610.41509433962,71972.16071428571,71862.25,71620.89772727272,71051.1953125,70179.8,69779.05555555556,69023.05263157895,68822.60869565218,67314.31481481482,66973.25663716815,66963.1081081081,66334.74509803922,66173.31034482758,65204.2,64807.5,64295.583333333336,64241.229508196724,63571.85294117647,63346.0,60802.22580645161,60610.51351351351,60592.69696969697,60157.15277777778,59653.05617977528,57728.32608695652,57475.19047619047,57148.336134453784,55216.290322580644,55182.975,53747.87640449438,52860.290322580644,51810.163636363635,50484.1,50289.64,48385.375,44159.121212121216,43898.69387755102,32742.333333333332,24695.909090909092],\"type\":\"bar\"}],                        {\"legend\":{\"bgcolor\":\"#F5F6F9\",\"font\":{\"color\":\"#4D5663\"}},\"paper_bgcolor\":\"#F5F6F9\",\"plot_bgcolor\":\"#F5F6F9\",\"template\":{\"data\":{\"barpolar\":[{\"marker\":{\"line\":{\"color\":\"#E5ECF6\",\"width\":0.5},\"pattern\":{\"fillmode\":\"overlay\",\"size\":10,\"solidity\":0.2}},\"type\":\"barpolar\"}],\"bar\":[{\"error_x\":{\"color\":\"#2a3f5f\"},\"error_y\":{\"color\":\"#2a3f5f\"},\"marker\":{\"line\":{\"color\":\"#E5ECF6\",\"width\":0.5},\"pattern\":{\"fillmode\":\"overlay\",\"size\":10,\"solidity\":0.2}},\"type\":\"bar\"}],\"carpet\":[{\"aaxis\":{\"endlinecolor\":\"#2a3f5f\",\"gridcolor\":\"white\",\"linecolor\":\"white\",\"minorgridcolor\":\"white\",\"startlinecolor\":\"#2a3f5f\"},\"baxis\":{\"endlinecolor\":\"#2a3f5f\",\"gridcolor\":\"white\",\"linecolor\":\"white\",\"minorgridcolor\":\"white\",\"startlinecolor\":\"#2a3f5f\"},\"type\":\"carpet\"}],\"choropleth\":[{\"colorbar\":{\"outlinewidth\":0,\"ticks\":\"\"},\"type\":\"choropleth\"}],\"contourcarpet\":[{\"colorbar\":{\"outlinewidth\":0,\"ticks\":\"\"},\"type\":\"contourcarpet\"}],\"contour\":[{\"colorbar\":{\"outlinewidth\":0,\"ticks\":\"\"},\"colorscale\":[[0.0,\"#0d0887\"],[0.1111111111111111,\"#46039f\"],[0.2222222222222222,\"#7201a8\"],[0.3333333333333333,\"#9c179e\"],[0.4444444444444444,\"#bd3786\"],[0.5555555555555556,\"#d8576b\"],[0.6666666666666666,\"#ed7953\"],[0.7777777777777778,\"#fb9f3a\"],[0.8888888888888888,\"#fdca26\"],[1.0,\"#f0f921\"]],\"type\":\"contour\"}],\"heatmapgl\":[{\"colorbar\":{\"outlinewidth\":0,\"ticks\":\"\"},\"colorscale\":[[0.0,\"#0d0887\"],[0.1111111111111111,\"#46039f\"],[0.2222222222222222,\"#7201a8\"],[0.3333333333333333,\"#9c179e\"],[0.4444444444444444,\"#bd3786\"],[0.5555555555555556,\"#d8576b\"],[0.6666666666666666,\"#ed7953\"],[0.7777777777777778,\"#fb9f3a\"],[0.8888888888888888,\"#fdca26\"],[1.0,\"#f0f921\"]],\"type\":\"heatmapgl\"}],\"heatmap\":[{\"colorbar\":{\"outlinewidth\":0,\"ticks\":\"\"},\"colorscale\":[[0.0,\"#0d0887\"],[0.1111111111111111,\"#46039f\"],[0.2222222222222222,\"#7201a8\"],[0.3333333333333333,\"#9c179e\"],[0.4444444444444444,\"#bd3786\"],[0.5555555555555556,\"#d8576b\"],[0.6666666666666666,\"#ed7953\"],[0.7777777777777778,\"#fb9f3a\"],[0.8888888888888888,\"#fdca26\"],[1.0,\"#f0f921\"]],\"type\":\"heatmap\"}],\"histogram2dcontour\":[{\"colorbar\":{\"outlinewidth\":0,\"ticks\":\"\"},\"colorscale\":[[0.0,\"#0d0887\"],[0.1111111111111111,\"#46039f\"],[0.2222222222222222,\"#7201a8\"],[0.3333333333333333,\"#9c179e\"],[0.4444444444444444,\"#bd3786\"],[0.5555555555555556,\"#d8576b\"],[0.6666666666666666,\"#ed7953\"],[0.7777777777777778,\"#fb9f3a\"],[0.8888888888888888,\"#fdca26\"],[1.0,\"#f0f921\"]],\"type\":\"histogram2dcontour\"}],\"histogram2d\":[{\"colorbar\":{\"outlinewidth\":0,\"ticks\":\"\"},\"colorscale\":[[0.0,\"#0d0887\"],[0.1111111111111111,\"#46039f\"],[0.2222222222222222,\"#7201a8\"],[0.3333333333333333,\"#9c179e\"],[0.4444444444444444,\"#bd3786\"],[0.5555555555555556,\"#d8576b\"],[0.6666666666666666,\"#ed7953\"],[0.7777777777777778,\"#fb9f3a\"],[0.8888888888888888,\"#fdca26\"],[1.0,\"#f0f921\"]],\"type\":\"histogram2d\"}],\"histogram\":[{\"marker\":{\"pattern\":{\"fillmode\":\"overlay\",\"size\":10,\"solidity\":0.2}},\"type\":\"histogram\"}],\"mesh3d\":[{\"colorbar\":{\"outlinewidth\":0,\"ticks\":\"\"},\"type\":\"mesh3d\"}],\"parcoords\":[{\"line\":{\"colorbar\":{\"outlinewidth\":0,\"ticks\":\"\"}},\"type\":\"parcoords\"}],\"pie\":[{\"automargin\":true,\"type\":\"pie\"}],\"scatter3d\":[{\"line\":{\"colorbar\":{\"outlinewidth\":0,\"ticks\":\"\"}},\"marker\":{\"colorbar\":{\"outlinewidth\":0,\"ticks\":\"\"}},\"type\":\"scatter3d\"}],\"scattercarpet\":[{\"marker\":{\"colorbar\":{\"outlinewidth\":0,\"ticks\":\"\"}},\"type\":\"scattercarpet\"}],\"scattergeo\":[{\"marker\":{\"colorbar\":{\"outlinewidth\":0,\"ticks\":\"\"}},\"type\":\"scattergeo\"}],\"scattergl\":[{\"marker\":{\"colorbar\":{\"outlinewidth\":0,\"ticks\":\"\"}},\"type\":\"scattergl\"}],\"scattermapbox\":[{\"marker\":{\"colorbar\":{\"outlinewidth\":0,\"ticks\":\"\"}},\"type\":\"scattermapbox\"}],\"scatterpolargl\":[{\"marker\":{\"colorbar\":{\"outlinewidth\":0,\"ticks\":\"\"}},\"type\":\"scatterpolargl\"}],\"scatterpolar\":[{\"marker\":{\"colorbar\":{\"outlinewidth\":0,\"ticks\":\"\"}},\"type\":\"scatterpolar\"}],\"scatter\":[{\"fillpattern\":{\"fillmode\":\"overlay\",\"size\":10,\"solidity\":0.2},\"type\":\"scatter\"}],\"scatterternary\":[{\"marker\":{\"colorbar\":{\"outlinewidth\":0,\"ticks\":\"\"}},\"type\":\"scatterternary\"}],\"surface\":[{\"colorbar\":{\"outlinewidth\":0,\"ticks\":\"\"},\"colorscale\":[[0.0,\"#0d0887\"],[0.1111111111111111,\"#46039f\"],[0.2222222222222222,\"#7201a8\"],[0.3333333333333333,\"#9c179e\"],[0.4444444444444444,\"#bd3786\"],[0.5555555555555556,\"#d8576b\"],[0.6666666666666666,\"#ed7953\"],[0.7777777777777778,\"#fb9f3a\"],[0.8888888888888888,\"#fdca26\"],[1.0,\"#f0f921\"]],\"type\":\"surface\"}],\"table\":[{\"cells\":{\"fill\":{\"color\":\"#EBF0F8\"},\"line\":{\"color\":\"white\"}},\"header\":{\"fill\":{\"color\":\"#C8D4E3\"},\"line\":{\"color\":\"white\"}},\"type\":\"table\"}]},\"layout\":{\"annotationdefaults\":{\"arrowcolor\":\"#2a3f5f\",\"arrowhead\":0,\"arrowwidth\":1},\"autotypenumbers\":\"strict\",\"coloraxis\":{\"colorbar\":{\"outlinewidth\":0,\"ticks\":\"\"}},\"colorscale\":{\"diverging\":[[0,\"#8e0152\"],[0.1,\"#c51b7d\"],[0.2,\"#de77ae\"],[0.3,\"#f1b6da\"],[0.4,\"#fde0ef\"],[0.5,\"#f7f7f7\"],[0.6,\"#e6f5d0\"],[0.7,\"#b8e186\"],[0.8,\"#7fbc41\"],[0.9,\"#4d9221\"],[1,\"#276419\"]],\"sequential\":[[0.0,\"#0d0887\"],[0.1111111111111111,\"#46039f\"],[0.2222222222222222,\"#7201a8\"],[0.3333333333333333,\"#9c179e\"],[0.4444444444444444,\"#bd3786\"],[0.5555555555555556,\"#d8576b\"],[0.6666666666666666,\"#ed7953\"],[0.7777777777777778,\"#fb9f3a\"],[0.8888888888888888,\"#fdca26\"],[1.0,\"#f0f921\"]],\"sequentialminus\":[[0.0,\"#0d0887\"],[0.1111111111111111,\"#46039f\"],[0.2222222222222222,\"#7201a8\"],[0.3333333333333333,\"#9c179e\"],[0.4444444444444444,\"#bd3786\"],[0.5555555555555556,\"#d8576b\"],[0.6666666666666666,\"#ed7953\"],[0.7777777777777778,\"#fb9f3a\"],[0.8888888888888888,\"#fdca26\"],[1.0,\"#f0f921\"]]},\"colorway\":[\"#636efa\",\"#EF553B\",\"#00cc96\",\"#ab63fa\",\"#FFA15A\",\"#19d3f3\",\"#FF6692\",\"#B6E880\",\"#FF97FF\",\"#FECB52\"],\"font\":{\"color\":\"#2a3f5f\"},\"geo\":{\"bgcolor\":\"white\",\"lakecolor\":\"white\",\"landcolor\":\"#E5ECF6\",\"showlakes\":true,\"showland\":true,\"subunitcolor\":\"white\"},\"hoverlabel\":{\"align\":\"left\"},\"hovermode\":\"closest\",\"mapbox\":{\"style\":\"light\"},\"paper_bgcolor\":\"white\",\"plot_bgcolor\":\"#E5ECF6\",\"polar\":{\"angularaxis\":{\"gridcolor\":\"white\",\"linecolor\":\"white\",\"ticks\":\"\"},\"bgcolor\":\"#E5ECF6\",\"radialaxis\":{\"gridcolor\":\"white\",\"linecolor\":\"white\",\"ticks\":\"\"}},\"scene\":{\"xaxis\":{\"backgroundcolor\":\"#E5ECF6\",\"gridcolor\":\"white\",\"gridwidth\":2,\"linecolor\":\"white\",\"showbackground\":true,\"ticks\":\"\",\"zerolinecolor\":\"white\"},\"yaxis\":{\"backgroundcolor\":\"#E5ECF6\",\"gridcolor\":\"white\",\"gridwidth\":2,\"linecolor\":\"white\",\"showbackground\":true,\"ticks\":\"\",\"zerolinecolor\":\"white\"},\"zaxis\":{\"backgroundcolor\":\"#E5ECF6\",\"gridcolor\":\"white\",\"gridwidth\":2,\"linecolor\":\"white\",\"showbackground\":true,\"ticks\":\"\",\"zerolinecolor\":\"white\"}},\"shapedefaults\":{\"line\":{\"color\":\"#2a3f5f\"}},\"ternary\":{\"aaxis\":{\"gridcolor\":\"white\",\"linecolor\":\"white\",\"ticks\":\"\"},\"baxis\":{\"gridcolor\":\"white\",\"linecolor\":\"white\",\"ticks\":\"\"},\"bgcolor\":\"#E5ECF6\",\"caxis\":{\"gridcolor\":\"white\",\"linecolor\":\"white\",\"ticks\":\"\"}},\"title\":{\"x\":0.05},\"xaxis\":{\"automargin\":true,\"gridcolor\":\"white\",\"linecolor\":\"white\",\"ticks\":\"\",\"title\":{\"standoff\":15},\"zerolinecolor\":\"white\",\"zerolinewidth\":2},\"yaxis\":{\"automargin\":true,\"gridcolor\":\"white\",\"linecolor\":\"white\",\"ticks\":\"\",\"title\":{\"standoff\":15},\"zerolinecolor\":\"white\",\"zerolinewidth\":2}}},\"title\":{\"font\":{\"color\":\"#4D5663\"},\"text\":\"C\\u0440\\u0435\\u0434\\u043d\\u044f\\u044f \\u0446\\u0435\\u043d\\u0430 \\u0437\\u0430 \\u043a\\u0432\\u0430\\u0434\\u0440\\u0430\\u0442\\u043d\\u044b\\u0439 \\u043c\\u0435\\u0442\\u0440 \\u043f\\u043e \\u0440\\u0435\\u0433\\u0438\\u043e\\u043d\\u0430\\u043c, \\u0432 \\u0440\\u0443\\u0431\\u043b\\u044f\\u0445\"},\"xaxis\":{\"gridcolor\":\"#E1E5ED\",\"showgrid\":true,\"tickfont\":{\"color\":\"#4D5663\"},\"title\":{\"font\":{\"color\":\"#4D5663\"},\"text\":\"\\u0420\\u0435\\u0433\\u0438\\u043e\\u043d \\u0420\\u0424\"},\"zerolinecolor\":\"#E1E5ED\"},\"yaxis\":{\"gridcolor\":\"#E1E5ED\",\"showgrid\":true,\"tickfont\":{\"color\":\"#4D5663\"},\"title\":{\"font\":{\"color\":\"#4D5663\"},\"text\":\"\\u0441\\u0440\\u0435\\u0434\\u043d\\u044f\\u044f \\u0446\\u0435\\u043d\\u0430\"},\"zerolinecolor\":\"#E1E5ED\"}},                        {\"showLink\": true, \"linkText\": \"Export to plot.ly\", \"plotlyServerURL\": \"https://plot.ly\", \"responsive\": true}                    ).then(function(){\n",
       "                            \n",
       "var gd = document.getElementById('3de19a92-39a2-4ac2-98ef-05aa8b8ecc72');\n",
       "var x = new MutationObserver(function (mutations, observer) {{\n",
       "        var display = window.getComputedStyle(gd).display;\n",
       "        if (!display || display === 'none') {{\n",
       "            console.log([gd, 'removed!']);\n",
       "            Plotly.purge(gd);\n",
       "            observer.disconnect();\n",
       "        }}\n",
       "}});\n",
       "\n",
       "// Listen for the removal of the full notebook cells\n",
       "var notebookContainer = gd.closest('#notebook-container');\n",
       "if (notebookContainer) {{\n",
       "    x.observe(notebookContainer, {childList: true});\n",
       "}}\n",
       "\n",
       "// Listen for the clearing of the current output cell\n",
       "var outputEl = gd.closest('.output');\n",
       "if (outputEl) {{\n",
       "    x.observe(outputEl, {childList: true});\n",
       "}}\n",
       "\n",
       "                        })                };                });            </script>        </div>"
      ]
     },
     "metadata": {},
     "output_type": "display_data"
    }
   ],
   "source": [
    "# столбчатый график средней цены кв.м. в регионе\n",
    "mean_sqr_mtr = df_price.groupby('name_region')['objPriceAvg'].agg('mean').sort_values(ascending=False)\n",
    "mean_sqr_mtr.iplot(kind='bar', xTitle='Регион РФ',\n",
    "                        yTitle='средняя цена', title='Cредняя цена за квадратный метр по регионам, в рублях'\n",
    "                       )\n",
    "\n",
    "# сильно в отрыве Москва.\n",
    "# Сахалин и Приморский край делят 2-5 места с МО и ЛО.\n",
    "# Самое дешевое жилье в Дагестане и Чечне"
   ]
  },
  {
   "cell_type": "code",
   "execution_count": 15,
   "metadata": {
    "ExecuteTime": {
     "end_time": "2022-10-15T11:30:54.592179Z",
     "start_time": "2022-10-15T11:30:54.538101Z"
    }
   },
   "outputs": [
    {
     "data": {
      "application/vnd.jupyter.widget-view+json": {
       "model_id": "caacc707b26d42b4b8af4a01f8f95def",
       "version_major": 2,
       "version_minor": 0
      },
      "text/plain": [
       "interactive(children=(Dropdown(description='year_from', options=(2017, 2018, 2019, 2020, 2021, 2022, 2023, 202…"
      ]
     },
     "metadata": {},
     "output_type": "display_data"
    }
   ],
   "source": [
    "# Рассчитать объемы вводимого жилья по регионам и по годам.\n",
    "\n",
    "df_SqrLiv = df.groupby(['name_region', 'YearReady'])['SqrLiv'].agg('sum').reset_index().sort_values(by=['YearReady', 'SqrLiv'])\n",
    "year_list = sorted(df['YearReady'].unique())\n",
    "region_list = ['all']+sorted(df_SqrLiv['name_region'].unique())\n",
    "\n",
    "@interact_manual\n",
    "def bar_plot(year_from = year_list, year_to = year_list, region=region_list):\n",
    "    if region == 'all':        \n",
    "        query = 'YearReady >= @year_from and YearReady <= @year_to'\n",
    "    else:\n",
    "        query = 'YearReady >= @year_from and YearReady <= @year_to and name_region==@region'\n",
    "    fig = px.bar(df_SqrLiv.query(query),\n",
    "                 y=\"name_region\",\n",
    "                 x=\"SqrLiv\",\n",
    "                 color='YearReady',\n",
    "                 title=f\"Обьем вводимого жилья по регионам c {year_from} по {year_to} год.\",\n",
    "                orientation='h')\n",
    "#     fig.update_layout(autosize=False)\n",
    "    fig.show()\n",
    "    \n",
    "# Вывод: больше всего жилья строят в столицах и их областях, а также Краснодарском крае\n",
    "# ну и ожидаемо 23, 24 года максимальные по обьему вводимого жилья"
   ]
  },
  {
   "cell_type": "code",
   "execution_count": 17,
   "metadata": {
    "ExecuteTime": {
     "end_time": "2022-10-15T11:37:10.194292Z",
     "start_time": "2022-10-15T11:37:10.147554Z"
    }
   },
   "outputs": [
    {
     "data": {
      "application/vnd.jupyter.widget-view+json": {
       "model_id": "efeb9c4654744e8aa1b8e5099d379263",
       "version_major": 2,
       "version_minor": 0
      },
      "text/plain": [
       "interactive(children=(Dropdown(description='x', options=('objFloorCnt', 'objFlatCnt', 'objPriceAvg', 'SqrLiv',…"
      ]
     },
     "metadata": {},
     "output_type": "display_data"
    }
   ],
   "source": [
    "# Сравнить этажность домов, количество квартир, жилую площадь,\n",
    "# количество парковочных мест и цену за квадратный метр в разных регионах\n",
    "\n",
    "\n",
    "map_param = {'objFloorCnt':'кол-ва этажей в доме', 'objFlatCnt':'кол-ва квартир в доме',\n",
    "             'objPriceAvg':'средней цены кв.м дома', 'SqrLiv':'жилой площади дома', 'PrkCnt':'кол-ва парковочных мест в доме'}\n",
    "list_of_param = map_param.keys()\n",
    "id_regions = df.region.unique()\n",
    "\n",
    "@interact_manual\n",
    "def box_plot(x=list_of_param, region=region_list, log_x=True):\n",
    "    \n",
    "    #используем в анализе только ненулевые значения параметров\n",
    "    # а в случае цены исследуем df_price (фрейм с не пустыми ценами)\n",
    "    data = df_price if x == 'objPriceAvg' else df[df[f'{x}'] >= 1]\n",
    "    \n",
    "    # готовим запрос для фильтрации по региону\n",
    "    query = 'index' if region == 'all' else 'name_region == @region'\n",
    "    \n",
    "    if region=='all':\n",
    "        fig = px.box(data.query(query), y='name_region', x=x, log_x=log_x,\n",
    "                     title=f'График распределения {map_param.get(x)} от региона',\n",
    "                     orientation='h', hover_data=['region'])\n",
    "        fig.update_layout(autosize=False, width=800, height=1300)\n",
    "    else:\n",
    "        fig = px.histogram(data.query('name_region == @region'), x=x,\n",
    "                     title=f'График распределения {map_param.get(x)} в регионе: {region}')\n",
    "        \n",
    "        \n",
    "    fig.show()"
   ]
  },
  {
   "cell_type": "code",
   "execution_count": 27,
   "metadata": {
    "ExecuteTime": {
     "end_time": "2022-10-15T12:32:31.390424Z",
     "start_time": "2022-10-15T12:32:31.339375Z"
    }
   },
   "outputs": [
    {
     "data": {
      "application/vnd.jupyter.widget-view+json": {
       "model_id": "51b4a85e31274b4ab9813d873db2872a",
       "version_major": 2,
       "version_minor": 0
      },
      "text/plain": [
       "interactive(children=(Dropdown(description='x', options=('objFloorCnt', 'objFlatCnt', 'objPriceAvg', 'SqrLiv',…"
      ]
     },
     "metadata": {},
     "output_type": "display_data"
    }
   ],
   "source": [
    "# Визуализировать разброс, связь и распределение этих показателей по регионам\n",
    "\n",
    "@interact_manual\n",
    "def scatter_plot(x= list_of_param, y=list_of_param, log_x=[True, False], log_y=[True, False]):\n",
    "    fig = px.scatter(df_price, y=y, x=x, color='name_region', log_x=log_x, log_y=log_y)\n",
    "    fig.show()\n",
    "    \n",
    "# выводы: в Мск высотные дома стоят от 200-500тыс.р, также у этих домов больше всего парковочных мест.\n",
    "# Парковок много в новостройках Краснодарского края, и не только в дорогих домах.\n",
    "# Большая плотность обьектов с ценой 100-200к и площадью от 7 до 35тыс кв м в МО\n",
    "\n"
   ]
  }
 ],
 "metadata": {
  "kernelspec": {
   "display_name": "Python 3",
   "language": "python",
   "name": "python3"
  },
  "language_info": {
   "codemirror_mode": {
    "name": "ipython",
    "version": 3
   },
   "file_extension": ".py",
   "mimetype": "text/x-python",
   "name": "python",
   "nbconvert_exporter": "python",
   "pygments_lexer": "ipython3",
   "version": "3.8.8"
  },
  "nbTranslate": {
   "displayLangs": [
    "*"
   ],
   "hotkey": "alt-t",
   "langInMainMenu": true,
   "sourceLang": "en",
   "targetLang": "fr",
   "useGoogleTranslate": true
  },
  "toc": {
   "base_numbering": 1,
   "nav_menu": {},
   "number_sections": true,
   "sideBar": true,
   "skip_h1_title": false,
   "title_cell": "Table of Contents",
   "title_sidebar": "Contents",
   "toc_cell": false,
   "toc_position": {},
   "toc_section_display": true,
   "toc_window_display": false
  },
  "varInspector": {
   "cols": {
    "lenName": 16,
    "lenType": 16,
    "lenVar": 40
   },
   "kernels_config": {
    "python": {
     "delete_cmd_postfix": "",
     "delete_cmd_prefix": "del ",
     "library": "var_list.py",
     "varRefreshCmd": "print(var_dic_list())"
    },
    "r": {
     "delete_cmd_postfix": ") ",
     "delete_cmd_prefix": "rm(",
     "library": "var_list.r",
     "varRefreshCmd": "cat(var_dic_list()) "
    }
   },
   "types_to_exclude": [
    "module",
    "function",
    "builtin_function_or_method",
    "instance",
    "_Feature"
   ],
   "window_display": false
  }
 },
 "nbformat": 4,
 "nbformat_minor": 1
}

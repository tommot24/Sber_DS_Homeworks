{
 "cells": [
  {
   "cell_type": "code",
   "execution_count": 1,
   "metadata": {
    "ExecuteTime": {
     "end_time": "2022-10-11T14:21:04.610802Z",
     "start_time": "2022-10-11T14:21:03.856312Z"
    }
   },
   "outputs": [],
   "source": [
    "import sqlite3\n",
    "import pandas as pd"
   ]
  },
  {
   "cell_type": "code",
   "execution_count": 2,
   "metadata": {
    "ExecuteTime": {
     "end_time": "2022-10-11T14:21:08.183402Z",
     "start_time": "2022-10-11T14:21:08.172449Z"
    }
   },
   "outputs": [],
   "source": [
    "con = sqlite3.connect(\":memory:\")\n",
    "cur = con.cursor()"
   ]
  },
  {
   "cell_type": "markdown",
   "metadata": {},
   "source": [
    "https://www.cs.toronto.edu/~delve/data/boston/bostonDetail.html"
   ]
  },
  {
   "cell_type": "code",
   "execution_count": 3,
   "metadata": {
    "ExecuteTime": {
     "end_time": "2022-10-11T14:22:40.749287Z",
     "start_time": "2022-10-11T14:22:40.698501Z"
    }
   },
   "outputs": [],
   "source": [
    "data = pd.read_csv('boston.csv')"
   ]
  },
  {
   "cell_type": "code",
   "execution_count": 4,
   "metadata": {
    "ExecuteTime": {
     "end_time": "2022-10-11T14:22:47.990236Z",
     "start_time": "2022-10-11T14:22:47.564332Z"
    }
   },
   "outputs": [],
   "source": [
    "data.to_sql(\"boston\", con, index=False, if_exists=\"replace\")"
   ]
  },
  {
   "cell_type": "code",
   "execution_count": 12,
   "metadata": {
    "ExecuteTime": {
     "end_time": "2022-10-11T14:34:24.653772Z",
     "start_time": "2022-10-11T14:34:24.630649Z"
    },
    "scrolled": true
   },
   "outputs": [],
   "source": [
    "df = pd.read_sql(\n",
    "    \"\"\"\n",
    "    SELECT * FROM boston\n",
    "    \"\"\",\n",
    "    con,\n",
    ")"
   ]
  },
  {
   "cell_type": "code",
   "execution_count": 14,
   "metadata": {
    "ExecuteTime": {
     "end_time": "2022-10-11T14:35:15.438788Z",
     "start_time": "2022-10-11T14:35:15.365048Z"
    }
   },
   "outputs": [
    {
     "data": {
      "text/html": [
       "<div>\n",
       "<style scoped>\n",
       "    .dataframe tbody tr th:only-of-type {\n",
       "        vertical-align: middle;\n",
       "    }\n",
       "\n",
       "    .dataframe tbody tr th {\n",
       "        vertical-align: top;\n",
       "    }\n",
       "\n",
       "    .dataframe thead th {\n",
       "        text-align: right;\n",
       "    }\n",
       "</style>\n",
       "<table border=\"1\" class=\"dataframe\">\n",
       "  <thead>\n",
       "    <tr style=\"text-align: right;\">\n",
       "      <th></th>\n",
       "      <th>CRIM</th>\n",
       "      <th>ZN</th>\n",
       "      <th>INDUS</th>\n",
       "      <th>CHAS</th>\n",
       "      <th>NOX</th>\n",
       "      <th>RM</th>\n",
       "      <th>AGE</th>\n",
       "      <th>DIS</th>\n",
       "      <th>RAD</th>\n",
       "      <th>TAX</th>\n",
       "      <th>PTRATIO</th>\n",
       "      <th>B</th>\n",
       "      <th>LSTAT</th>\n",
       "      <th>MEDV</th>\n",
       "    </tr>\n",
       "  </thead>\n",
       "  <tbody>\n",
       "    <tr>\n",
       "      <th>337</th>\n",
       "      <td>0.03041</td>\n",
       "      <td>0.0</td>\n",
       "      <td>5.19</td>\n",
       "      <td>0.0</td>\n",
       "      <td>0.515</td>\n",
       "      <td>5.895</td>\n",
       "      <td>59.6</td>\n",
       "      <td>5.6150</td>\n",
       "      <td>5.0</td>\n",
       "      <td>224.0</td>\n",
       "      <td>20.2</td>\n",
       "      <td>394.81</td>\n",
       "      <td>10.56</td>\n",
       "      <td>18.5</td>\n",
       "    </tr>\n",
       "    <tr>\n",
       "      <th>365</th>\n",
       "      <td>4.55587</td>\n",
       "      <td>0.0</td>\n",
       "      <td>18.10</td>\n",
       "      <td>0.0</td>\n",
       "      <td>0.718</td>\n",
       "      <td>3.561</td>\n",
       "      <td>87.9</td>\n",
       "      <td>1.6132</td>\n",
       "      <td>24.0</td>\n",
       "      <td>666.0</td>\n",
       "      <td>20.2</td>\n",
       "      <td>354.70</td>\n",
       "      <td>7.12</td>\n",
       "      <td>27.5</td>\n",
       "    </tr>\n",
       "    <tr>\n",
       "      <th>86</th>\n",
       "      <td>0.05188</td>\n",
       "      <td>0.0</td>\n",
       "      <td>4.49</td>\n",
       "      <td>0.0</td>\n",
       "      <td>0.449</td>\n",
       "      <td>6.015</td>\n",
       "      <td>45.1</td>\n",
       "      <td>4.4272</td>\n",
       "      <td>3.0</td>\n",
       "      <td>247.0</td>\n",
       "      <td>18.5</td>\n",
       "      <td>395.99</td>\n",
       "      <td>12.86</td>\n",
       "      <td>22.5</td>\n",
       "    </tr>\n",
       "    <tr>\n",
       "      <th>411</th>\n",
       "      <td>14.05070</td>\n",
       "      <td>0.0</td>\n",
       "      <td>18.10</td>\n",
       "      <td>0.0</td>\n",
       "      <td>0.597</td>\n",
       "      <td>6.657</td>\n",
       "      <td>100.0</td>\n",
       "      <td>1.5275</td>\n",
       "      <td>24.0</td>\n",
       "      <td>666.0</td>\n",
       "      <td>20.2</td>\n",
       "      <td>35.05</td>\n",
       "      <td>21.22</td>\n",
       "      <td>17.2</td>\n",
       "    </tr>\n",
       "    <tr>\n",
       "      <th>394</th>\n",
       "      <td>13.35980</td>\n",
       "      <td>0.0</td>\n",
       "      <td>18.10</td>\n",
       "      <td>0.0</td>\n",
       "      <td>0.693</td>\n",
       "      <td>5.887</td>\n",
       "      <td>94.7</td>\n",
       "      <td>1.7821</td>\n",
       "      <td>24.0</td>\n",
       "      <td>666.0</td>\n",
       "      <td>20.2</td>\n",
       "      <td>396.90</td>\n",
       "      <td>16.35</td>\n",
       "      <td>12.7</td>\n",
       "    </tr>\n",
       "  </tbody>\n",
       "</table>\n",
       "</div>"
      ],
      "text/plain": [
       "         CRIM   ZN  INDUS  CHAS    NOX     RM    AGE     DIS   RAD    TAX  \\\n",
       "337   0.03041  0.0   5.19   0.0  0.515  5.895   59.6  5.6150   5.0  224.0   \n",
       "365   4.55587  0.0  18.10   0.0  0.718  3.561   87.9  1.6132  24.0  666.0   \n",
       "86    0.05188  0.0   4.49   0.0  0.449  6.015   45.1  4.4272   3.0  247.0   \n",
       "411  14.05070  0.0  18.10   0.0  0.597  6.657  100.0  1.5275  24.0  666.0   \n",
       "394  13.35980  0.0  18.10   0.0  0.693  5.887   94.7  1.7821  24.0  666.0   \n",
       "\n",
       "     PTRATIO       B  LSTAT  MEDV  \n",
       "337     20.2  394.81  10.56  18.5  \n",
       "365     20.2  354.70   7.12  27.5  \n",
       "86      18.5  395.99  12.86  22.5  \n",
       "411     20.2   35.05  21.22  17.2  \n",
       "394     20.2  396.90  16.35  12.7  "
      ]
     },
     "execution_count": 14,
     "metadata": {},
     "output_type": "execute_result"
    }
   ],
   "source": [
    "df.sample(5)"
   ]
  },
  {
   "cell_type": "markdown",
   "metadata": {},
   "source": [
    "### Все задания нужно выполнить только с помощью sql"
   ]
  },
  {
   "cell_type": "markdown",
   "metadata": {},
   "source": [
    "1. Выведите количество пустых значений по колонкам CRIM, ZN, INDUS, CHAS, NOX (название колонки, кол-во пустых значений)"
   ]
  },
  {
   "cell_type": "code",
   "execution_count": 19,
   "metadata": {
    "ExecuteTime": {
     "end_time": "2022-10-11T14:38:56.193103Z",
     "start_time": "2022-10-11T14:38:56.166181Z"
    }
   },
   "outputs": [
    {
     "data": {
      "text/html": [
       "<div>\n",
       "<style scoped>\n",
       "    .dataframe tbody tr th:only-of-type {\n",
       "        vertical-align: middle;\n",
       "    }\n",
       "\n",
       "    .dataframe tbody tr th {\n",
       "        vertical-align: top;\n",
       "    }\n",
       "\n",
       "    .dataframe thead th {\n",
       "        text-align: right;\n",
       "    }\n",
       "</style>\n",
       "<table border=\"1\" class=\"dataframe\">\n",
       "  <thead>\n",
       "    <tr style=\"text-align: right;\">\n",
       "      <th></th>\n",
       "      <th>crim_null</th>\n",
       "      <th>zn_null</th>\n",
       "      <th>indus_null</th>\n",
       "      <th>chas_null</th>\n",
       "      <th>nox_null</th>\n",
       "    </tr>\n",
       "  </thead>\n",
       "  <tbody>\n",
       "    <tr>\n",
       "      <th>0</th>\n",
       "      <td>0</td>\n",
       "      <td>0</td>\n",
       "      <td>0</td>\n",
       "      <td>0</td>\n",
       "      <td>0</td>\n",
       "    </tr>\n",
       "  </tbody>\n",
       "</table>\n",
       "</div>"
      ],
      "text/plain": [
       "   crim_null  zn_null  indus_null  chas_null  nox_null\n",
       "0          0        0           0          0         0"
      ]
     },
     "execution_count": 19,
     "metadata": {},
     "output_type": "execute_result"
    }
   ],
   "source": [
    "pd.read_sql(\n",
    "    \"\"\"\n",
    "    SELECT\n",
    "        sum(case when CRIM is NULL then 1 else 0 end) as crim_null,\n",
    "        sum(case when ZN is NULL then 1 else 0 end) as zn_null,\n",
    "        sum(case when INDUS is NULL then 1 else 0 end) as indus_null,\n",
    "        sum(case when CHAS is NULL then 1 else 0 end) as chas_null,\n",
    "        sum(case when NOX is NULL then 1 else 0 end) as nox_null\n",
    "        \n",
    "    FROM boston\n",
    "    \"\"\",\n",
    "    con,\n",
    ")"
   ]
  },
  {
   "cell_type": "markdown",
   "metadata": {},
   "source": [
    "2. Выведите количество уникальных значений по колонокам CRIM, ZN, INDUS, CHAS, NOX (название колонки, кол-во уникальных значений)"
   ]
  },
  {
   "cell_type": "code",
   "execution_count": 28,
   "metadata": {
    "ExecuteTime": {
     "end_time": "2022-10-11T14:50:24.165975Z",
     "start_time": "2022-10-11T14:50:24.141078Z"
    }
   },
   "outputs": [
    {
     "data": {
      "text/html": [
       "<div>\n",
       "<style scoped>\n",
       "    .dataframe tbody tr th:only-of-type {\n",
       "        vertical-align: middle;\n",
       "    }\n",
       "\n",
       "    .dataframe tbody tr th {\n",
       "        vertical-align: top;\n",
       "    }\n",
       "\n",
       "    .dataframe thead th {\n",
       "        text-align: right;\n",
       "    }\n",
       "</style>\n",
       "<table border=\"1\" class=\"dataframe\">\n",
       "  <thead>\n",
       "    <tr style=\"text-align: right;\">\n",
       "      <th></th>\n",
       "      <th>unique_crim</th>\n",
       "      <th>unique_zn</th>\n",
       "      <th>unique_indus</th>\n",
       "      <th>unique_chas</th>\n",
       "      <th>unique_nox</th>\n",
       "    </tr>\n",
       "  </thead>\n",
       "  <tbody>\n",
       "    <tr>\n",
       "      <th>0</th>\n",
       "      <td>504</td>\n",
       "      <td>26</td>\n",
       "      <td>76</td>\n",
       "      <td>2</td>\n",
       "      <td>81</td>\n",
       "    </tr>\n",
       "  </tbody>\n",
       "</table>\n",
       "</div>"
      ],
      "text/plain": [
       "   unique_crim  unique_zn  unique_indus  unique_chas  unique_nox\n",
       "0          504         26            76            2          81"
      ]
     },
     "execution_count": 28,
     "metadata": {},
     "output_type": "execute_result"
    }
   ],
   "source": [
    "pd.read_sql(\n",
    "    \"\"\"\n",
    "    SELECT count(distinct crim) unique_crim,\n",
    "           count(distinct zn) unique_zn,\n",
    "           count(distinct indus) unique_indus,\n",
    "           count(distinct chas) unique_chas,\n",
    "           count(distinct nox) unique_nox\n",
    "    \n",
    "    FROM boston\n",
    "    \"\"\",\n",
    "    con,\n",
    ")"
   ]
  },
  {
   "cell_type": "markdown",
   "metadata": {},
   "source": [
    "3. Выведите колонки, у которых медиана равна минимальному значению (название колонки) выбирая из CRIM, ZN, INDUS, CHAS, NOX.\n",
    "Напишите какой вывод можно сделать по данным в этих колонках"
   ]
  },
  {
   "cell_type": "code",
   "execution_count": 233,
   "metadata": {
    "ExecuteTime": {
     "end_time": "2022-10-12T18:42:11.191127Z",
     "start_time": "2022-10-12T18:42:11.134211Z"
    }
   },
   "outputs": [
    {
     "data": {
      "text/html": [
       "<div>\n",
       "<style scoped>\n",
       "    .dataframe tbody tr th:only-of-type {\n",
       "        vertical-align: middle;\n",
       "    }\n",
       "\n",
       "    .dataframe tbody tr th {\n",
       "        vertical-align: top;\n",
       "    }\n",
       "\n",
       "    .dataframe thead th {\n",
       "        text-align: right;\n",
       "    }\n",
       "</style>\n",
       "<table border=\"1\" class=\"dataframe\">\n",
       "  <thead>\n",
       "    <tr style=\"text-align: right;\">\n",
       "      <th></th>\n",
       "      <th>key</th>\n",
       "    </tr>\n",
       "  </thead>\n",
       "  <tbody>\n",
       "    <tr>\n",
       "      <th>0</th>\n",
       "      <td>chas</td>\n",
       "    </tr>\n",
       "    <tr>\n",
       "      <th>1</th>\n",
       "      <td>zn</td>\n",
       "    </tr>\n",
       "  </tbody>\n",
       "</table>\n",
       "</div>"
      ],
      "text/plain": [
       "    key\n",
       "0  chas\n",
       "1    zn"
      ]
     },
     "execution_count": 233,
     "metadata": {},
     "output_type": "execute_result"
    }
   ],
   "source": [
    "pd.read_sql(\n",
    "    \"\"\"\n",
    "with\n",
    "all_data as\n",
    "(\n",
    "    select 'crim' as key, crim as value from boston\n",
    "    union all\n",
    "    select 'zn' as key, zn as value from boston\n",
    "    union all\n",
    "    select 'chas' as key, chas as value from boston\n",
    "    union all\n",
    "    select 'indus' as key, indus as value from boston\n",
    "    union all\n",
    "    select 'nox' as key, nox as value from boston\n",
    "),\n",
    "stat_table as\n",
    "(\n",
    "    select key, value,\n",
    "           row_number() over(partition by key order by value) as rn,\n",
    "           min(value) over(partition by key) min_value,\n",
    "           count(value) over(partition by key) as cnt\n",
    "    from all_data\n",
    ")\n",
    "    \n",
    "\n",
    "select key from (\n",
    "                    select key, value as md_value, min_value\n",
    "                    from stat_table\n",
    "                    where rn = cnt/2\n",
    "                )\n",
    "where md_value=min_value\n",
    "    \n",
    "    \n",
    "    \"\"\",\n",
    "    con,\n",
    ")\n",
    "# как минимум первая половина значений, упорядоченных по возрастанию, в колонках chas и zn \n",
    "# равна минимальному значению столбца\n",
    "# вариабельность значений в этих столбцах небольшая"
   ]
  },
  {
   "cell_type": "markdown",
   "metadata": {},
   "source": [
    "4. Выведите разницу между средним количеством комнат(RM) в домах с самой дорогой стоимостью(MEDV) и 25 самыми дешевыми домами. \n",
    "Аналогично по 50, 100, 200, 300 самыми дешевыми домами. (кол-во домов(25,50,100,200,300), среднее кол-во комнат в них, среднее кол-во комнат в самых дорогих, разница).\n",
    "Напишите влияет ли кол-во комнат на стоимость и как сильно."
   ]
  },
  {
   "cell_type": "code",
   "execution_count": 144,
   "metadata": {
    "ExecuteTime": {
     "end_time": "2022-10-12T10:01:55.675037Z",
     "start_time": "2022-10-12T10:01:55.658935Z"
    }
   },
   "outputs": [
    {
     "data": {
      "text/html": [
       "<div>\n",
       "<style scoped>\n",
       "    .dataframe tbody tr th:only-of-type {\n",
       "        vertical-align: middle;\n",
       "    }\n",
       "\n",
       "    .dataframe tbody tr th {\n",
       "        vertical-align: top;\n",
       "    }\n",
       "\n",
       "    .dataframe thead th {\n",
       "        text-align: right;\n",
       "    }\n",
       "</style>\n",
       "<table border=\"1\" class=\"dataframe\">\n",
       "  <thead>\n",
       "    <tr style=\"text-align: right;\">\n",
       "      <th></th>\n",
       "      <th>cnt_houses</th>\n",
       "      <th>avg_rm</th>\n",
       "      <th>avg_rm_max</th>\n",
       "      <th>diff</th>\n",
       "    </tr>\n",
       "  </thead>\n",
       "  <tbody>\n",
       "    <tr>\n",
       "      <th>0</th>\n",
       "      <td>25</td>\n",
       "      <td>5.747840</td>\n",
       "      <td>7.484</td>\n",
       "      <td>1.736160</td>\n",
       "    </tr>\n",
       "    <tr>\n",
       "      <th>1</th>\n",
       "      <td>50</td>\n",
       "      <td>5.753240</td>\n",
       "      <td>7.484</td>\n",
       "      <td>1.730760</td>\n",
       "    </tr>\n",
       "    <tr>\n",
       "      <th>2</th>\n",
       "      <td>100</td>\n",
       "      <td>5.887120</td>\n",
       "      <td>7.484</td>\n",
       "      <td>1.596880</td>\n",
       "    </tr>\n",
       "    <tr>\n",
       "      <th>3</th>\n",
       "      <td>200</td>\n",
       "      <td>5.911705</td>\n",
       "      <td>7.484</td>\n",
       "      <td>1.572295</td>\n",
       "    </tr>\n",
       "    <tr>\n",
       "      <th>4</th>\n",
       "      <td>300</td>\n",
       "      <td>5.972227</td>\n",
       "      <td>7.484</td>\n",
       "      <td>1.511773</td>\n",
       "    </tr>\n",
       "  </tbody>\n",
       "</table>\n",
       "</div>"
      ],
      "text/plain": [
       "  cnt_houses    avg_rm  avg_rm_max      diff\n",
       "0         25  5.747840       7.484  1.736160\n",
       "1         50  5.753240       7.484  1.730760\n",
       "2        100  5.887120       7.484  1.596880\n",
       "3        200  5.911705       7.484  1.572295\n",
       "4        300  5.972227       7.484  1.511773"
      ]
     },
     "execution_count": 144,
     "metadata": {},
     "output_type": "execute_result"
    }
   ],
   "source": [
    "pd.read_sql(\n",
    "    \"\"\"\n",
    "    with avg_rm_max_medv as\n",
    "    (\n",
    "    SELECT avg(rm) avg_rm_max FROM boston\n",
    "    where MEDV = (select max(MEDV) from boston)\n",
    "    ), avg_tbl as\n",
    "    (select avg(rm) over(order by medv rows between current row and 24 following) avg_25,\n",
    "            avg(rm) over(order by medv rows between current row and 49 following) avg_50,\n",
    "            avg(rm) over(order by medv rows between current row and 99 following) avg_100,\n",
    "            avg(rm) over(order by medv rows between current row and 199 following) avg_200,\n",
    "            avg(rm) over(order by medv rows between current row and 299 following) avg_300\n",
    "     from boston\n",
    "     limit 1\n",
    "    )\n",
    "    \n",
    "    select '25' as cnt_houses, avg_25 as avg_rm, avg_rm_max, (avg_rm_max - avg_25) as diff    \n",
    "    from avg_rm_max_medv, avg_tbl\n",
    "    union all\n",
    "    select '50' as cnt_houses, avg_50 as avg_rm, avg_rm_max, (avg_rm_max - avg_50) as diff    \n",
    "    from avg_rm_max_medv, avg_tbl\n",
    "    union all\n",
    "    select '100' as cnt_houses, avg_100 as avg_rm, avg_rm_max, (avg_rm_max - avg_100) as diff    \n",
    "    from avg_rm_max_medv, avg_tbl\n",
    "    union all\n",
    "    select '200' as cnt_houses, avg_200 as avg_rm, avg_rm_max, (avg_rm_max - avg_200) as diff    \n",
    "    from avg_rm_max_medv, avg_tbl\n",
    "    union all\n",
    "    select '300' as cnt_houses, avg_300 as avg_rm, avg_rm_max, (avg_rm_max - avg_300) as diff    \n",
    "    from avg_rm_max_medv, avg_tbl\n",
    "    \n",
    "    \"\"\",\n",
    "    con,\n",
    ")\n",
    "\n",
    "# Количество комнат не сильно влияет на стоимость дома\n",
    "# разница между 25 самыми дешевыми домами и 300 домами в среднем 0.23 комнаты\n",
    "# но есть тенденция, что с увеличением стоимости домов, среднее количество комнат неизменно возрастает"
   ]
  },
  {
   "cell_type": "markdown",
   "metadata": {},
   "source": [
    "5. Выведите ранги значений колонки LSTAT(процент населения с более низким статусом) в домах с самой дорогой стоимостью (значение LSTAT, стоимость, ранг) среди всех значений LSTAT. Напишите какой вывод можно сделать по этим данным."
   ]
  },
  {
   "cell_type": "code",
   "execution_count": 228,
   "metadata": {
    "ExecuteTime": {
     "end_time": "2022-10-12T18:34:32.650856Z",
     "start_time": "2022-10-12T18:34:32.610407Z"
    }
   },
   "outputs": [
    {
     "data": {
      "text/html": [
       "<div>\n",
       "<style scoped>\n",
       "    .dataframe tbody tr th:only-of-type {\n",
       "        vertical-align: middle;\n",
       "    }\n",
       "\n",
       "    .dataframe tbody tr th {\n",
       "        vertical-align: top;\n",
       "    }\n",
       "\n",
       "    .dataframe thead th {\n",
       "        text-align: right;\n",
       "    }\n",
       "</style>\n",
       "<table border=\"1\" class=\"dataframe\">\n",
       "  <thead>\n",
       "    <tr style=\"text-align: right;\">\n",
       "      <th></th>\n",
       "      <th>LSTAT</th>\n",
       "      <th>MEDV</th>\n",
       "      <th>rank</th>\n",
       "    </tr>\n",
       "  </thead>\n",
       "  <tbody>\n",
       "    <tr>\n",
       "      <th>0</th>\n",
       "      <td>1.73</td>\n",
       "      <td>50.0</td>\n",
       "      <td>1</td>\n",
       "    </tr>\n",
       "    <tr>\n",
       "      <th>1</th>\n",
       "      <td>1.92</td>\n",
       "      <td>50.0</td>\n",
       "      <td>2</td>\n",
       "    </tr>\n",
       "    <tr>\n",
       "      <th>2</th>\n",
       "      <td>2.88</td>\n",
       "      <td>50.0</td>\n",
       "      <td>6</td>\n",
       "    </tr>\n",
       "    <tr>\n",
       "      <th>3</th>\n",
       "      <td>2.96</td>\n",
       "      <td>50.0</td>\n",
       "      <td>8</td>\n",
       "    </tr>\n",
       "    <tr>\n",
       "      <th>4</th>\n",
       "      <td>2.97</td>\n",
       "      <td>50.0</td>\n",
       "      <td>9</td>\n",
       "    </tr>\n",
       "    <tr>\n",
       "      <th>5</th>\n",
       "      <td>3.16</td>\n",
       "      <td>50.0</td>\n",
       "      <td>14</td>\n",
       "    </tr>\n",
       "    <tr>\n",
       "      <th>6</th>\n",
       "      <td>3.26</td>\n",
       "      <td>50.0</td>\n",
       "      <td>15</td>\n",
       "    </tr>\n",
       "    <tr>\n",
       "      <th>7</th>\n",
       "      <td>3.32</td>\n",
       "      <td>50.0</td>\n",
       "      <td>16</td>\n",
       "    </tr>\n",
       "    <tr>\n",
       "      <th>8</th>\n",
       "      <td>3.70</td>\n",
       "      <td>50.0</td>\n",
       "      <td>23</td>\n",
       "    </tr>\n",
       "    <tr>\n",
       "      <th>9</th>\n",
       "      <td>3.73</td>\n",
       "      <td>50.0</td>\n",
       "      <td>24</td>\n",
       "    </tr>\n",
       "    <tr>\n",
       "      <th>10</th>\n",
       "      <td>4.45</td>\n",
       "      <td>50.0</td>\n",
       "      <td>36</td>\n",
       "    </tr>\n",
       "    <tr>\n",
       "      <th>11</th>\n",
       "      <td>4.63</td>\n",
       "      <td>50.0</td>\n",
       "      <td>42</td>\n",
       "    </tr>\n",
       "    <tr>\n",
       "      <th>12</th>\n",
       "      <td>5.12</td>\n",
       "      <td>50.0</td>\n",
       "      <td>59</td>\n",
       "    </tr>\n",
       "    <tr>\n",
       "      <th>13</th>\n",
       "      <td>7.44</td>\n",
       "      <td>50.0</td>\n",
       "      <td>122</td>\n",
       "    </tr>\n",
       "    <tr>\n",
       "      <th>14</th>\n",
       "      <td>8.88</td>\n",
       "      <td>50.0</td>\n",
       "      <td>155</td>\n",
       "    </tr>\n",
       "    <tr>\n",
       "      <th>15</th>\n",
       "      <td>9.53</td>\n",
       "      <td>50.0</td>\n",
       "      <td>176</td>\n",
       "    </tr>\n",
       "  </tbody>\n",
       "</table>\n",
       "</div>"
      ],
      "text/plain": [
       "    LSTAT  MEDV  rank\n",
       "0    1.73  50.0     1\n",
       "1    1.92  50.0     2\n",
       "2    2.88  50.0     6\n",
       "3    2.96  50.0     8\n",
       "4    2.97  50.0     9\n",
       "5    3.16  50.0    14\n",
       "6    3.26  50.0    15\n",
       "7    3.32  50.0    16\n",
       "8    3.70  50.0    23\n",
       "9    3.73  50.0    24\n",
       "10   4.45  50.0    36\n",
       "11   4.63  50.0    42\n",
       "12   5.12  50.0    59\n",
       "13   7.44  50.0   122\n",
       "14   8.88  50.0   155\n",
       "15   9.53  50.0   176"
      ]
     },
     "execution_count": 228,
     "metadata": {},
     "output_type": "execute_result"
    }
   ],
   "source": [
    "pd.read_sql(\n",
    "    \"\"\"\n",
    "    select lstat, medv, rank from \n",
    "    (select *, dense_rank() over(order by lstat) rank\n",
    "    from boston)\n",
    "    where MEDV = (select max(MEDV) from boston)\n",
    "    \"\"\",\n",
    "    con,\n",
    ")\n",
    "\n",
    "# в домах с самой высокой стоимостью небольшой процент населения с низким статусом\n",
    "# в пределах первого квартиля"
   ]
  },
  {
   "cell_type": "markdown",
   "metadata": {},
   "source": [
    "6. Выведите среднюю стоимость домов граничащих с рекой(CHAS) и нет (граничит/не граничит, стоимость)"
   ]
  },
  {
   "cell_type": "code",
   "execution_count": 161,
   "metadata": {
    "ExecuteTime": {
     "end_time": "2022-10-12T10:15:25.900048Z",
     "start_time": "2022-10-12T10:15:25.888350Z"
    }
   },
   "outputs": [
    {
     "data": {
      "text/html": [
       "<div>\n",
       "<style scoped>\n",
       "    .dataframe tbody tr th:only-of-type {\n",
       "        vertical-align: middle;\n",
       "    }\n",
       "\n",
       "    .dataframe tbody tr th {\n",
       "        vertical-align: top;\n",
       "    }\n",
       "\n",
       "    .dataframe thead th {\n",
       "        text-align: right;\n",
       "    }\n",
       "</style>\n",
       "<table border=\"1\" class=\"dataframe\">\n",
       "  <thead>\n",
       "    <tr style=\"text-align: right;\">\n",
       "      <th></th>\n",
       "      <th>chas</th>\n",
       "      <th>avg(medv)</th>\n",
       "    </tr>\n",
       "  </thead>\n",
       "  <tbody>\n",
       "    <tr>\n",
       "      <th>0</th>\n",
       "      <td>граничит</td>\n",
       "      <td>22.093843</td>\n",
       "    </tr>\n",
       "    <tr>\n",
       "      <th>1</th>\n",
       "      <td>не граничит</td>\n",
       "      <td>28.440000</td>\n",
       "    </tr>\n",
       "  </tbody>\n",
       "</table>\n",
       "</div>"
      ],
      "text/plain": [
       "          chas  avg(medv)\n",
       "0     граничит  22.093843\n",
       "1  не граничит  28.440000"
      ]
     },
     "execution_count": 161,
     "metadata": {},
     "output_type": "execute_result"
    }
   ],
   "source": [
    "pd.read_sql(\n",
    "    \"\"\"\n",
    "    SELECT case when chas=0 then 'граничит' else 'не граничит' end chas, avg(medv) \n",
    "    FROM boston\n",
    "    group by chas\n",
    "    \n",
    "    \"\"\",\n",
    "    con,\n",
    ")"
   ]
  },
  {
   "cell_type": "markdown",
   "metadata": {},
   "source": [
    "7. Выведите все колонки, у которых среднее значение выше, когда дом граничит с рекой (название колонки) выбирая из CRIM, ZN, INDUS, CHAS, NOX. Напишите какой вывод можно сделать по этим данным."
   ]
  },
  {
   "cell_type": "code",
   "execution_count": null,
   "metadata": {},
   "outputs": [],
   "source": [
    "# выведите параметры, у которых среднее значение при условии,\n",
    "# что дом граничит с рекой выше, чем среднее значение при обратном условии (CRIM, ZN, INDUS, NOX)"
   ]
  },
  {
   "cell_type": "code",
   "execution_count": 258,
   "metadata": {
    "ExecuteTime": {
     "end_time": "2022-10-12T19:22:37.544217Z",
     "start_time": "2022-10-12T19:22:37.521888Z"
    }
   },
   "outputs": [
    {
     "data": {
      "text/html": [
       "<div>\n",
       "<style scoped>\n",
       "    .dataframe tbody tr th:only-of-type {\n",
       "        vertical-align: middle;\n",
       "    }\n",
       "\n",
       "    .dataframe tbody tr th {\n",
       "        vertical-align: top;\n",
       "    }\n",
       "\n",
       "    .dataframe thead th {\n",
       "        text-align: right;\n",
       "    }\n",
       "</style>\n",
       "<table border=\"1\" class=\"dataframe\">\n",
       "  <thead>\n",
       "    <tr style=\"text-align: right;\">\n",
       "      <th></th>\n",
       "      <th>name</th>\n",
       "    </tr>\n",
       "  </thead>\n",
       "  <tbody>\n",
       "    <tr>\n",
       "      <th>0</th>\n",
       "      <td>indus</td>\n",
       "    </tr>\n",
       "  </tbody>\n",
       "</table>\n",
       "</div>"
      ],
      "text/plain": [
       "    name\n",
       "0  indus"
      ]
     },
     "execution_count": 258,
     "metadata": {},
     "output_type": "execute_result"
    }
   ],
   "source": [
    "pd.read_sql(\n",
    "    \"\"\"\n",
    "    with data as (\n",
    "    select avg(case when chas=1 then crim end) avg_crim_1,\n",
    "           avg(case when chas=0 then crim end) avg_crim_0,\n",
    "           avg(case when chas=1 then zn end) avg_zn_1,\n",
    "           avg(case when chas=0 then zn end) avg_zn_0,\n",
    "           avg(case when chas=1 then indus end) avg_indus_1,\n",
    "           avg(case when chas=0 then indus end) avg_indus_0,\n",
    "           avg(case when chas=1 then nox end) avg_nox_1,\n",
    "           avg(case when chas=0 then nox end) avg_nox_0\n",
    "    from boston\n",
    "    )\n",
    "    \n",
    "    select case when avg_crim_1>avg_crim_0 then 'crim'\n",
    "                when avg_zn_1>avg_zn_0 then 'zn' \n",
    "                when avg_indus_1>avg_indus_0 then 'indus'\n",
    "                when avg_nox_1>avg_nox_0 then 'nox'\n",
    "                end name\n",
    "    from data\n",
    "    \n",
    "    \n",
    "    \"\"\",\n",
    "    con,\n",
    ")\n",
    "\n",
    "# промышленных обьектов больше на территориях, граничащих с рекой"
   ]
  },
  {
   "cell_type": "markdown",
   "metadata": {},
   "source": [
    "8. Выведите значения долей промышленной застройки(INDUS), концентрации оксидов азота(NOX) и по их перцентилям - 10, 20 ... 100 ( перцетиль(10,20...100),значение INDUS, значение NOX). Напишите прослеживается между ними взаимосвязь"
   ]
  },
  {
   "cell_type": "code",
   "execution_count": 246,
   "metadata": {
    "ExecuteTime": {
     "end_time": "2022-10-12T18:58:25.032815Z",
     "start_time": "2022-10-12T18:58:24.991921Z"
    }
   },
   "outputs": [
    {
     "data": {
      "text/html": [
       "<div>\n",
       "<style scoped>\n",
       "    .dataframe tbody tr th:only-of-type {\n",
       "        vertical-align: middle;\n",
       "    }\n",
       "\n",
       "    .dataframe tbody tr th {\n",
       "        vertical-align: top;\n",
       "    }\n",
       "\n",
       "    .dataframe thead th {\n",
       "        text-align: right;\n",
       "    }\n",
       "</style>\n",
       "<table border=\"1\" class=\"dataframe\">\n",
       "  <thead>\n",
       "    <tr style=\"text-align: right;\">\n",
       "      <th></th>\n",
       "      <th>percentile</th>\n",
       "      <th>indus</th>\n",
       "      <th>nox</th>\n",
       "    </tr>\n",
       "  </thead>\n",
       "  <tbody>\n",
       "    <tr>\n",
       "      <th>0</th>\n",
       "      <td>10</td>\n",
       "      <td>2.89</td>\n",
       "      <td>0.426</td>\n",
       "    </tr>\n",
       "    <tr>\n",
       "      <th>1</th>\n",
       "      <td>20</td>\n",
       "      <td>4.15</td>\n",
       "      <td>0.442</td>\n",
       "    </tr>\n",
       "    <tr>\n",
       "      <th>2</th>\n",
       "      <td>30</td>\n",
       "      <td>5.96</td>\n",
       "      <td>0.472</td>\n",
       "    </tr>\n",
       "    <tr>\n",
       "      <th>3</th>\n",
       "      <td>40</td>\n",
       "      <td>7.07</td>\n",
       "      <td>0.507</td>\n",
       "    </tr>\n",
       "    <tr>\n",
       "      <th>4</th>\n",
       "      <td>50</td>\n",
       "      <td>9.69</td>\n",
       "      <td>0.538</td>\n",
       "    </tr>\n",
       "    <tr>\n",
       "      <th>5</th>\n",
       "      <td>60</td>\n",
       "      <td>12.83</td>\n",
       "      <td>0.575</td>\n",
       "    </tr>\n",
       "    <tr>\n",
       "      <th>6</th>\n",
       "      <td>70</td>\n",
       "      <td>18.10</td>\n",
       "      <td>0.605</td>\n",
       "    </tr>\n",
       "    <tr>\n",
       "      <th>7</th>\n",
       "      <td>80</td>\n",
       "      <td>18.10</td>\n",
       "      <td>0.668</td>\n",
       "    </tr>\n",
       "    <tr>\n",
       "      <th>8</th>\n",
       "      <td>90</td>\n",
       "      <td>19.58</td>\n",
       "      <td>0.713</td>\n",
       "    </tr>\n",
       "    <tr>\n",
       "      <th>9</th>\n",
       "      <td>100</td>\n",
       "      <td>27.74</td>\n",
       "      <td>0.871</td>\n",
       "    </tr>\n",
       "  </tbody>\n",
       "</table>\n",
       "</div>"
      ],
      "text/plain": [
       "  percentile  indus    nox\n",
       "0         10   2.89  0.426\n",
       "1         20   4.15  0.442\n",
       "2         30   5.96  0.472\n",
       "3         40   7.07  0.507\n",
       "4         50   9.69  0.538\n",
       "5         60  12.83  0.575\n",
       "6         70  18.10  0.605\n",
       "7         80  18.10  0.668\n",
       "8         90  19.58  0.713\n",
       "9        100  27.74  0.871"
      ]
     },
     "execution_count": 246,
     "metadata": {},
     "output_type": "execute_result"
    }
   ],
   "source": [
    "pd.read_sql(\n",
    "    \"\"\"\n",
    "    with data as(\n",
    "    select 'indus' as key, indus as value from boston\n",
    "    union all\n",
    "    select 'nox' as key, nox as value from boston), \n",
    "    tbl as (    \n",
    "    SELECT *, row_number() over(partition by key order by value) rn,\n",
    "              count() over(partition by key) as cnt\n",
    "    \n",
    "    FROM data\n",
    "           ),\n",
    "    stat_tbl as (\n",
    "           \n",
    "    select '10' as percentile, key, value\n",
    "    from tbl\n",
    "    where rn = round(cnt*0.1, 0)\n",
    "    union all\n",
    "    select '20' as percentile, key, value\n",
    "    from tbl\n",
    "    where rn = round(cnt*0.2, 0)\n",
    "    union all\n",
    "    select '30' as percentile, key, value\n",
    "    from tbl\n",
    "    where rn = round(cnt*0.3, 0)\n",
    "    union all\n",
    "    select '40' as percentile, key, value\n",
    "    from tbl\n",
    "    where rn = round(cnt*0.4, 0)\n",
    "    union all\n",
    "    select '50' as percentile, key, value\n",
    "    from tbl\n",
    "    where rn = round(cnt*0.5, 0)\n",
    "    union all\n",
    "    select '60' as percentile, key, value\n",
    "    from tbl\n",
    "    where rn = round(cnt*0.6, 0)\n",
    "    union all\n",
    "    select '70' as percentile, key, value\n",
    "    from tbl\n",
    "    where rn = round(cnt*0.7, 0)\n",
    "    union all\n",
    "    select '80' as percentile, key, value\n",
    "    from tbl\n",
    "    where rn = round(cnt*0.8, 0)\n",
    "    union all\n",
    "    select '90' as percentile, key, value\n",
    "    from tbl\n",
    "    where rn = round(cnt*0.9, 0)\n",
    "    union all\n",
    "    select '100' as percentile, key, value\n",
    "    from tbl\n",
    "    where rn = cnt   \n",
    "    )\n",
    "    \n",
    "    select percentile, sum(case when key='indus' then value end) as indus,\n",
    "                       sum(case when key='nox' then value end) as nox\n",
    "    from stat_tbl\n",
    "    group by percentile\n",
    "    order by indus\n",
    "    \n",
    "    \n",
    "    \n",
    "    \"\"\",\n",
    "    con,\n",
    ")\n",
    "# с возрастанием доли земель, задействованых под промышленность,\n",
    "# возрастает концентрация оксидов азота в воздухе"
   ]
  },
  {
   "cell_type": "raw",
   "metadata": {},
   "source": [
    "CRIM - уровень преступности на душу населения\n",
    "ZN - доля земель под жилую застройку зонирована под участки площадью более 25 000 кв. футов.\n",
    "INDUS - доля акров неторгового бизнеса на город.\n",
    "CHAS - 1, если граничит с рекой, 0 иначе\n",
    "NOX - концентрация оксидов азота (частей на 10 миллионов)\n",
    "RM - среднее количество комнат в квартире\n",
    "AGE - доля жилых домов, построенных до 1940 г.\n",
    "DIS - взвешенные расстояния до пяти центров занятости Бостона\n",
    "RAD - индекс доступности к радиальным магистралям\n",
    "TAX - полная ставка налога на имущество за 10 000 долларов США\n",
    "PTRATIO - соотношение учеников и учителей по городам\n",
    "B - 1000(Bk - 0.63)^2, где Bk доля чернокожих людей по городам\n",
    "LSTAT - % более низкого статуса населения\n",
    "MEDV - Средняя стоимость домов в 1000 долларов."
   ]
  }
 ],
 "metadata": {
  "kernelspec": {
   "display_name": "Python 3",
   "language": "python",
   "name": "python3"
  },
  "language_info": {
   "codemirror_mode": {
    "name": "ipython",
    "version": 3
   },
   "file_extension": ".py",
   "mimetype": "text/x-python",
   "name": "python",
   "nbconvert_exporter": "python",
   "pygments_lexer": "ipython3",
   "version": "3.8.8"
  },
  "nbTranslate": {
   "displayLangs": [
    "ru",
    "en"
   ],
   "hotkey": "alt-t",
   "langInMainMenu": true,
   "sourceLang": "en",
   "targetLang": "ru",
   "useGoogleTranslate": true
  },
  "toc": {
   "base_numbering": 1,
   "nav_menu": {},
   "number_sections": true,
   "sideBar": true,
   "skip_h1_title": false,
   "title_cell": "Table of Contents",
   "title_sidebar": "Contents",
   "toc_cell": false,
   "toc_position": {},
   "toc_section_display": true,
   "toc_window_display": false
  },
  "varInspector": {
   "cols": {
    "lenName": 16,
    "lenType": 16,
    "lenVar": 40
   },
   "kernels_config": {
    "python": {
     "delete_cmd_postfix": "",
     "delete_cmd_prefix": "del ",
     "library": "var_list.py",
     "varRefreshCmd": "print(var_dic_list())"
    },
    "r": {
     "delete_cmd_postfix": ") ",
     "delete_cmd_prefix": "rm(",
     "library": "var_list.r",
     "varRefreshCmd": "cat(var_dic_list()) "
    }
   },
   "types_to_exclude": [
    "module",
    "function",
    "builtin_function_or_method",
    "instance",
    "_Feature"
   ],
   "window_display": false
  }
 },
 "nbformat": 4,
 "nbformat_minor": 4
}
